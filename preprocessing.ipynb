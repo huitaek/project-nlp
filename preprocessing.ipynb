{
 "cells": [
  {
   "cell_type": "markdown",
   "metadata": {},
   "source": [
    "## Preprocessing"
   ]
  },
  {
   "cell_type": "markdown",
   "metadata": {},
   "source": [
    "### 0. 라이브러리"
   ]
  },
  {
   "cell_type": "code",
   "execution_count": 1,
   "metadata": {},
   "outputs": [],
   "source": [
    "import pandas as pd\n",
    "import numpy as np\n",
    "\n",
    "from konlpy.tag import Okt\n",
    "from konlpy.jvm import init_jvm # JVM을 초기화하는 함수 init_jvm을 제공\n",
    "\n",
    "from pykospacing import Spacing # 한글 띄어쓰기 라이브러리\n",
    "from hanspell import spell_checker # 한글 맞춤법 라이브러리\n",
    "from tqdm import tqdm # 진행상황 Progress Bar를 위한 tqdm library\n",
    "\n",
    "from tensorflow.keras.preprocessing.text import Tokenizer\n",
    " "
   ]
  },
  {
   "cell_type": "markdown",
   "metadata": {},
   "source": [
    "### <b>1.0 데이터 불러오기</b>"
   ]
  },
  {
   "cell_type": "code",
   "execution_count": 102,
   "metadata": {},
   "outputs": [
    {
     "data": {
      "text/html": [
       "<div>\n",
       "<style scoped>\n",
       "    .dataframe tbody tr th:only-of-type {\n",
       "        vertical-align: middle;\n",
       "    }\n",
       "\n",
       "    .dataframe tbody tr th {\n",
       "        vertical-align: top;\n",
       "    }\n",
       "\n",
       "    .dataframe thead th {\n",
       "        text-align: right;\n",
       "    }\n",
       "</style>\n",
       "<table border=\"1\" class=\"dataframe\">\n",
       "  <thead>\n",
       "    <tr style=\"text-align: right;\">\n",
       "      <th></th>\n",
       "      <th>id</th>\n",
       "      <th>document</th>\n",
       "      <th>label</th>\n",
       "    </tr>\n",
       "  </thead>\n",
       "  <tbody>\n",
       "    <tr>\n",
       "      <th>0</th>\n",
       "      <td>9976970</td>\n",
       "      <td>아 더빙.. 진짜 짜증나네요 목소리</td>\n",
       "      <td>0</td>\n",
       "    </tr>\n",
       "    <tr>\n",
       "      <th>1</th>\n",
       "      <td>3819312</td>\n",
       "      <td>흠...포스터보고 초딩영화줄....오버연기조차 가볍지 않구나</td>\n",
       "      <td>1</td>\n",
       "    </tr>\n",
       "    <tr>\n",
       "      <th>2</th>\n",
       "      <td>10265843</td>\n",
       "      <td>너무재밓었다그래서보는것을추천한다</td>\n",
       "      <td>0</td>\n",
       "    </tr>\n",
       "    <tr>\n",
       "      <th>3</th>\n",
       "      <td>9045019</td>\n",
       "      <td>교도소 이야기구먼 ..솔직히 재미는 없다..평점 조정</td>\n",
       "      <td>0</td>\n",
       "    </tr>\n",
       "    <tr>\n",
       "      <th>4</th>\n",
       "      <td>6483659</td>\n",
       "      <td>사이몬페그의 익살스런 연기가 돋보였던 영화!스파이더맨에서 늙어보이기만 했던 커스틴 ...</td>\n",
       "      <td>1</td>\n",
       "    </tr>\n",
       "    <tr>\n",
       "      <th>...</th>\n",
       "      <td>...</td>\n",
       "      <td>...</td>\n",
       "      <td>...</td>\n",
       "    </tr>\n",
       "    <tr>\n",
       "      <th>161578</th>\n",
       "      <td>763490752</td>\n",
       "      <td>이런 억지스런 정서와 얄팍한 이야기를..  감히 시네마천국이라는 명작에 갖다붙여 비...</td>\n",
       "      <td>0</td>\n",
       "    </tr>\n",
       "    <tr>\n",
       "      <th>161579</th>\n",
       "      <td>751304283</td>\n",
       "      <td>100번이고 1000번이고 다시 보고 싶은, 너무나도 소중한 1초!</td>\n",
       "      <td>1</td>\n",
       "    </tr>\n",
       "    <tr>\n",
       "      <th>161580</th>\n",
       "      <td>745093399</td>\n",
       "      <td>.</td>\n",
       "      <td>1</td>\n",
       "    </tr>\n",
       "    <tr>\n",
       "      <th>161581</th>\n",
       "      <td>741725515</td>\n",
       "      <td>필름에 비치는 나의 모습!! 너무나도 빛나는 나의 심장!! 너무나도 사랑합니다.</td>\n",
       "      <td>1</td>\n",
       "    </tr>\n",
       "    <tr>\n",
       "      <th>161582</th>\n",
       "      <td>753647513</td>\n",
       "      <td>그때는 무척 고대하고 열광하던,\\n이제는 낡고 사라져 버린 오래전 영화문화를\\n간절...</td>\n",
       "      <td>1</td>\n",
       "    </tr>\n",
       "  </tbody>\n",
       "</table>\n",
       "<p>161583 rows × 3 columns</p>\n",
       "</div>"
      ],
      "text/plain": [
       "               id                                           document  label\n",
       "0         9976970                                아 더빙.. 진짜 짜증나네요 목소리      0\n",
       "1         3819312                  흠...포스터보고 초딩영화줄....오버연기조차 가볍지 않구나      1\n",
       "2        10265843                                  너무재밓었다그래서보는것을추천한다      0\n",
       "3         9045019                      교도소 이야기구먼 ..솔직히 재미는 없다..평점 조정      0\n",
       "4         6483659  사이몬페그의 익살스런 연기가 돋보였던 영화!스파이더맨에서 늙어보이기만 했던 커스틴 ...      1\n",
       "...           ...                                                ...    ...\n",
       "161578  763490752  이런 억지스런 정서와 얄팍한 이야기를..  감히 시네마천국이라는 명작에 갖다붙여 비...      0\n",
       "161579  751304283              100번이고 1000번이고 다시 보고 싶은, 너무나도 소중한 1초!      1\n",
       "161580  745093399                                                  .      1\n",
       "161581  741725515       필름에 비치는 나의 모습!! 너무나도 빛나는 나의 심장!! 너무나도 사랑합니다.      1\n",
       "161582  753647513  그때는 무척 고대하고 열광하던,\\n이제는 낡고 사라져 버린 오래전 영화문화를\\n간절...      1\n",
       "\n",
       "[161583 rows x 3 columns]"
      ]
     },
     "execution_count": 102,
     "metadata": {},
     "output_type": "execute_result"
    }
   ],
   "source": [
    "# 데이터 불러오기\n",
    "\n",
    "train_data = pd.read_table('./data/ratings_train.txt')\n",
    "test_data = pd.read_table('./data/ratings_test.txt')\n",
    "\n",
    "crawl_data = pd.read_csv('./data/naver_train_new.csv')\n",
    "crawl_data_2 = pd.read_csv('./data/comment_suc.csv', encoding='cp949')\n",
    "\n",
    "\n",
    "# 데이터 확인\n",
    "\n",
    "# print(train_data.info()) # 150000 row\n",
    "# print(test_data.info()) # 50000 row\n",
    "# print(crawl_data.info()) # 8591 row\n",
    "# print(crawl_data_2.info()) # 2992 row\n",
    "\n",
    "\n",
    "# 데이터 결합\n",
    "\n",
    "train_data = pd.concat([train_data, crawl_data, crawl_data_2], axis=0)\n",
    "train_data.reset_index(inplace=True, drop=True)\n",
    "\n",
    "train_data"
   ]
  },
  {
   "cell_type": "markdown",
   "metadata": {},
   "source": [
    "### <b>2.0 데이터 정제</b>"
   ]
  },
  {
   "cell_type": "markdown",
   "metadata": {},
   "source": [
    "#### 2.1 중복값 처리"
   ]
  },
  {
   "cell_type": "code",
   "execution_count": 103,
   "metadata": {},
   "outputs": [
    {
     "name": "stdout",
     "output_type": "stream",
     "text": [
      "train_data\n",
      "id 중복값:  3\n",
      "document 중복값:  4087\n",
      "label 값:  [0 1] \n",
      "\n",
      "test_data\n",
      "id 중복값:  0\n",
      "document 중복값:  839\n",
      "label 값:  [1 0] \n",
      "\n",
      "train data 개수:  156876\n",
      "test_data 개수:  49158\n"
     ]
    }
   ],
   "source": [
    "# train_data 중복값 확인\n",
    "\n",
    "print('train_data')\n",
    "print('id 중복값: ',         train_data['id'].notnull().sum()        - len(train_data['id'].unique()))\n",
    "print('document 중복값: ',   train_data['document'].notnull().sum()  - len(train_data['document'].unique()))\n",
    "print('label 값: ',         train_data['label'].unique(), '\\n') # 0, 1\n",
    "\n",
    "\n",
    "# test_data 중복값 확인\n",
    "\n",
    "print('test_data')\n",
    "print('id 중복값: ',       test_data['id'].notnull().sum()        - len(test_data['id'].unique()))\n",
    "print('document 중복값: ', test_data['document'].notnull().sum()  - len(test_data['document'].unique()))\n",
    "print('label 값: ',       test_data['label'].unique(), '\\n') # 0, 1\n",
    "\n",
    "\n",
    "# 중복값 제거\n",
    "\n",
    "train_data.drop_duplicates(['document'], inplace=True)\n",
    "test_data.drop_duplicates(['document'], inplace=True)\n",
    "\n",
    "print('train data 개수: ', len(train_data))\n",
    "print('test data 개수: ', len(test_data))"
   ]
  },
  {
   "cell_type": "markdown",
   "metadata": {},
   "source": [
    "#### 2.2 구두점, 특수문자 제거"
   ]
  },
  {
   "cell_type": "code",
   "execution_count": 104,
   "metadata": {},
   "outputs": [
    {
     "name": "stderr",
     "output_type": "stream",
     "text": [
      "<ipython-input-104-86c5f8d24f7b>:1: FutureWarning: The default value of regex will change from True to False in a future version.\n",
      "  train_data['document'] = train_data['document'].str.replace('[^ㄱ-ㅎㅏ-ㅣ가-힣 ]','') # [ㄱ - ㅎ, ㅏ - ㅣ, 가 - 핳] 제외 제거\n",
      "<ipython-input-104-86c5f8d24f7b>:2: FutureWarning: The default value of regex will change from True to False in a future version.\n",
      "  train_data['document'] = train_data['document'].str.replace('^ +', '')              # 화이트 스페이스 제거\n",
      "<ipython-input-104-86c5f8d24f7b>:4: FutureWarning: The default value of regex will change from True to False in a future version.\n",
      "  test_data['document'] = test_data['document'].str.replace('[^ㄱ-ㅎㅏ-ㅣ가-힣 ]','')\n",
      "<ipython-input-104-86c5f8d24f7b>:5: FutureWarning: The default value of regex will change from True to False in a future version.\n",
      "  test_data['document'] = test_data['document'].str.replace('^ +', '')\n"
     ]
    }
   ],
   "source": [
    "train_data['document'] = train_data['document'].str.replace('[^ㄱ-ㅎㅏ-ㅣ가-힣 ]','') # [ㄱ - ㅎ, ㅏ - ㅣ, 가 - 핳] 제외 제거\n",
    "train_data['document'] = train_data['document'].str.replace('^ +', '')              # 화이트 스페이스 제거\n",
    "\n",
    "test_data['document'] = test_data['document'].str.replace('[^ㄱ-ㅎㅏ-ㅣ가-힣 ]','')\n",
    "test_data['document'] = test_data['document'].str.replace('^ +', '')"
   ]
  },
  {
   "cell_type": "markdown",
   "metadata": {},
   "source": [
    "#### 2.3 결측치 처리"
   ]
  },
  {
   "cell_type": "code",
   "execution_count": 105,
   "metadata": {},
   "outputs": [
    {
     "name": "stdout",
     "output_type": "stream",
     "text": [
      "train_data 널값\n",
      "824 1\n",
      "825 \n",
      "\n",
      "test_data 널값\n",
      "305 1\n",
      "306 \n",
      "\n",
      "남은 넓값:  0 0\n",
      "train data 개수:  156051\n",
      "test_data 개수:  48852\n"
     ]
    }
   ],
   "source": [
    "# 결측치 확인\n",
    "\n",
    "print('train_data 널값')\n",
    "print(len(train_data[train_data['document']==\"\"]), train_data['document'].isnull().sum()) # 비어있는 값(\"\") 개수 확인\n",
    "train_data.replace(\"\", np.nan, inplace=True) # 비어있는 값(\"\") 널값으로 변환\n",
    "\n",
    "train_data[train_data['document'].isnull()==True]\n",
    "print(train_data['document'].isnull().sum(), '\\n')\n",
    "\n",
    "\n",
    "print('test_data 널값')\n",
    "print(len(test_data[test_data['document']==\"\"]), test_data['document'].isnull().sum()) # 비어있는 값(\"\") 개수 확인\n",
    "test_data.replace(\"\", np.nan, inplace=True) # 비어있는 값(\"\") 널값으로 변환\n",
    "\n",
    "test_data[test_data['document'].isnull()==True]\n",
    "print(test_data['document'].isnull().sum(), '\\n')\n",
    "\n",
    "\n",
    "# 결측치 제거\n",
    "\n",
    "train_data.dropna(inplace=True)\n",
    "test_data.dropna(inplace=True)\n",
    "\n",
    "\n",
    "# 결측치 확인\n",
    "\n",
    "print('남은 넓값: ', train_data['document'].isnull().sum(), test_data['document'].isnull().sum())\n",
    "\n",
    "print('train data 개수: ', len(train_data))\n",
    "print('test_data 개수: ', len(test_data))"
   ]
  },
  {
   "cell_type": "markdown",
   "metadata": {},
   "source": [
    "#### 2.4 띄어쓰기, 맞춤법"
   ]
  },
  {
   "cell_type": "code",
   "execution_count": 108,
   "metadata": {},
   "outputs": [],
   "source": [
    "# pykospacing 모듈을 사용하여 띄어쓰기 수행\n",
    "\n",
    "spacing = Spacing()\n",
    "\n",
    "train_data['document'] = train_data['document'].apply(spacing)\n",
    "test_data['document'] = test_data['document'].apply(spacing)"
   ]
  },
  {
   "cell_type": "code",
   "execution_count": 109,
   "metadata": {},
   "outputs": [],
   "source": [
    "# 띄어쓰기된 파일 별도로 저장\n",
    "\n",
    "train_data.to_csv('./data/ratings_train_spaced.csv', index=False)\n",
    "test_data.to_csv('./data/ratings_test_spaced.csv', index=False)"
   ]
  },
  {
   "cell_type": "markdown",
   "metadata": {},
   "source": [
    "### 3.0 토큰화"
   ]
  },
  {
   "cell_type": "code",
   "execution_count": 2,
   "metadata": {},
   "outputs": [],
   "source": [
    "# 띄어쓰기된 데이터 불러오기\n",
    "\n",
    "train_data = pd.read_csv('./data/ratings_train_spaced.csv')\n",
    "test_data = pd.read_csv('./data/ratings_test_spaced.csv')"
   ]
  },
  {
   "cell_type": "code",
   "execution_count": 3,
   "metadata": {},
   "outputs": [
    {
     "name": "stdout",
     "output_type": "stream",
     "text": [
      "664\n"
     ]
    }
   ],
   "source": [
    "# 불용어 사전 불러오기\n",
    "\n",
    "stopwords = pd.read_csv(\"./data/stopwords/stopwords_1.csv\", encoding='CP949')\n",
    "stopwords = stopwords['stopwords']\n",
    "\n",
    "stopwords_2 = pd.read_table(\"./data/stopwords/stopwords_2.txt\", names=['stopwords', '품사', 'ratio'])\n",
    "stopwords_2 = stopwords_2['stopwords']\n",
    "\n",
    "# 불용어 사전 병합\n",
    "\n",
    "stopwords = pd.concat([stopwords, stopwords_2], axis=0)\n",
    "stopwords.drop_duplicates(inplace=True)\n",
    "stopwords.reset_index(inplace=True, drop=True)\n",
    "print(len(stopwords))\n",
    "\n",
    "stopwords.to_csv(\"./data/stopwords/stopwords_concat.csv\", encoding='CP949') \n"
   ]
  },
  {
   "cell_type": "markdown",
   "metadata": {},
   "source": [
    "#### 3.1 Okt 사용 토큰화"
   ]
  },
  {
   "cell_type": "code",
   "execution_count": 112,
   "metadata": {},
   "outputs": [
    {
     "name": "stderr",
     "output_type": "stream",
     "text": [
      "100%|██████████| 156051/156051 [10:56<00:00, 237.84it/s]\n"
     ]
    },
    {
     "ename": "AttributeError",
     "evalue": "'list' object has no attribute 'head'",
     "output_type": "error",
     "traceback": [
      "\u001b[1;31m---------------------------------------------------------------------------\u001b[0m",
      "\u001b[1;31mAttributeError\u001b[0m                            Traceback (most recent call last)",
      "\u001b[1;32m<ipython-input-112-a03a888f4b20>\u001b[0m in \u001b[0;36m<module>\u001b[1;34m\u001b[0m\n\u001b[0;32m     12\u001b[0m \u001b[0mpd\u001b[0m\u001b[1;33m.\u001b[0m\u001b[0mSeries\u001b[0m\u001b[1;33m(\u001b[0m\u001b[0mokt_train\u001b[0m\u001b[1;33m)\u001b[0m\u001b[1;33m.\u001b[0m\u001b[0mto_csv\u001b[0m\u001b[1;33m(\u001b[0m\u001b[1;34m\"./data/okt/tokenized_train.csv\"\u001b[0m\u001b[1;33m,\u001b[0m \u001b[0mindex\u001b[0m\u001b[1;33m=\u001b[0m\u001b[1;32mFalse\u001b[0m\u001b[1;33m)\u001b[0m\u001b[1;33m\u001b[0m\u001b[1;33m\u001b[0m\u001b[0m\n\u001b[0;32m     13\u001b[0m \u001b[1;33m\u001b[0m\u001b[0m\n\u001b[1;32m---> 14\u001b[1;33m \u001b[0mokt_train\u001b[0m\u001b[1;33m.\u001b[0m\u001b[0mhead\u001b[0m\u001b[1;33m(\u001b[0m\u001b[1;33m)\u001b[0m\u001b[1;33m\u001b[0m\u001b[1;33m\u001b[0m\u001b[0m\n\u001b[0m",
      "\u001b[1;31mAttributeError\u001b[0m: 'list' object has no attribute 'head'"
     ]
    }
   ],
   "source": [
    "# Okt로 train_data 토큰화\n",
    "\n",
    "okt = Okt()\n",
    "\n",
    "okt_train = []\n",
    "\n",
    "for sentence in tqdm(train_data['document']):            # 진행상황 Progress Bar를 위한 tqdm library\n",
    "    tokenized_sentence = okt.morphs(sentence, stem=True) # 토큰화\n",
    "    stopwords_removed_sentence = [word for word in tokenized_sentence if not word in stopwords] # 불용어 제거\n",
    "    okt_train.append(stopwords_removed_sentence)       \n",
    "\n",
    "pd.Series(okt_train).to_csv(\"./data/okt/tokenized_train.csv\", index=False) \n"
   ]
  },
  {
   "cell_type": "code",
   "execution_count": 113,
   "metadata": {},
   "outputs": [
    {
     "name": "stderr",
     "output_type": "stream",
     "text": [
      "100%|██████████| 48852/48852 [04:06<00:00, 197.82it/s]\n"
     ]
    }
   ],
   "source": [
    "# Okt로 test_data 토큰화\n",
    "\n",
    "okt_test = []\n",
    "\n",
    "for sentence in tqdm(test_data['document']):\n",
    "    tokenized_sentence = okt.morphs(sentence, stem=True)\n",
    "    stopwords_removed_sentence = [word for word in tokenized_sentence if not word in stopwords]\n",
    "    okt_test.append(stopwords_removed_sentence)\n",
    "\n",
    "pd.Series(okt_test).to_csv(\"./data/okt/tokenized_test.csv\", index=False)"
   ]
  },
  {
   "cell_type": "markdown",
   "metadata": {},
   "source": [
    "#### 3.2 꼬꼬마 Kkma 사용 토큰화"
   ]
  },
  {
   "cell_type": "code",
   "execution_count": null,
   "metadata": {},
   "outputs": [
    {
     "name": "stdout",
     "output_type": "stream",
     "text": [
      "꼬꼬마 형태소 분석 : ['걍', '인피', '니트', '가', '짱', '이', '다', '진짜', '짱', '이', '다']\n",
      "꼬꼬마 품사 태깅 : [('걍', 'MAG'), ('인피', 'NNG'), ('니트', 'NNG'), ('가', 'JKS'), ('짱', 'NNG'), ('이', 'JKS'), ('다', 'MAG'), ('진짜', 'MAG'), ('짱', 'NNG'), ('이', 'VCP'), ('다', 'EFN')]\n",
      "꼬꼬마 명사 추출 : ['인피', '인피니트', '니트', '짱']\n"
     ]
    }
   ],
   "source": [
    "from konlpy.tag import Kkma\n",
    "\n",
    "kkma = Kkma()\n",
    "\n",
    "test_sentence = train_data.iloc[10, 1]\n",
    "\n",
    "print('꼬꼬마 형태소 분석 :',kkma.morphs(test_sentence))\n",
    "print('꼬꼬마 품사 태깅 :',kkma.pos(test_sentence))\n",
    "print('꼬꼬마 명사 추출 :',kkma.nouns(test_sentence))"
   ]
  },
  {
   "cell_type": "code",
   "execution_count": null,
   "metadata": {},
   "outputs": [
    {
     "name": "stderr",
     "output_type": "stream",
     "text": [
      "WARNING:root:JVM is already running. Do not init twice!\n"
     ]
    }
   ],
   "source": [
    "init_jvm(jvmpath=None, max_heap_size='9096M')"
   ]
  },
  {
   "cell_type": "code",
   "execution_count": null,
   "metadata": {},
   "outputs": [],
   "source": [
    "kkma_x_train = []\n",
    "\n",
    "for sentence in tqdm(train_data['document']): # 진행상황 Progress Bar를 위한 tqdm library\n",
    "    tokenized_sentence = kkma.morphs(sentence) # 토큰화\n",
    "    stopwords_removed_sentence = [word for word in tokenized_sentence if not word in stopwords] # 불용어 제거\n",
    "    kkma_x_train.append(stopwords_removed_sentence)"
   ]
  },
  {
   "cell_type": "markdown",
   "metadata": {},
   "source": [
    "#### 3.3 Mecab 은전한닢 형태소 분석기"
   ]
  },
  {
   "cell_type": "markdown",
   "metadata": {},
   "source": [
    "https://eunjeon.blogspot.com/\n",
    "\n",
    "https://cleancode-ws.tistory.com/97\n",
    "\n",
    "https://m.blog.naver.com/PostView.nhn?blogId=aul-_-&logNo=221557243190&proxyReferer=https:%2F%2Fwww.google.com%2F"
   ]
  },
  {
   "cell_type": "code",
   "execution_count": 6,
   "metadata": {},
   "outputs": [],
   "source": [
    "from eunjeon import Mecab\n",
    "mecab=Mecab()"
   ]
  },
  {
   "cell_type": "code",
   "execution_count": 7,
   "metadata": {},
   "outputs": [
    {
     "name": "stderr",
     "output_type": "stream",
     "text": [
      "100%|██████████| 156051/156051 [00:23<00:00, 6616.02it/s]\n"
     ]
    }
   ],
   "source": [
    "mecab_train = []\n",
    "\n",
    "for sentence in tqdm(train_data['document']): # 진행상황 Progress Bar를 위한 tqdm library\n",
    "    tokenized_sentence = mecab.morphs(sentence) # 토큰화\n",
    "    stopwords_removed_sentence = [word for word in tokenized_sentence if not word in stopwords] # 불용어 제거\n",
    "    mecab_train.append(stopwords_removed_sentence)\n",
    "pd.Series(mecab_train).to_csv(\"./data/mecab/tokenized_train.csv\", index=False) "
   ]
  },
  {
   "cell_type": "code",
   "execution_count": 9,
   "metadata": {},
   "outputs": [
    {
     "name": "stderr",
     "output_type": "stream",
     "text": [
      "100%|██████████| 48852/48852 [00:06<00:00, 7192.85it/s]\n"
     ]
    }
   ],
   "source": [
    "mecab_test = []\n",
    "for sentence in tqdm(test_data['document']):\n",
    "    tokenized_sentence = mecab.morphs(sentence) # 토큰화\n",
    "    stopwords_removed_sentence = [word for word in tokenized_sentence if not word in stopwords] # 불용어 제거\n",
    "    mecab_test.append(stopwords_removed_sentence)\n",
    "pd.Series(mecab_test).to_csv(\"./data/mecab/tokenized_test.csv\", index=False)"
   ]
  },
  {
   "cell_type": "markdown",
   "metadata": {},
   "source": [
    "#### 3.4 코모란 KOMORAN 사용 토큰화"
   ]
  },
  {
   "cell_type": "markdown",
   "metadata": {},
   "source": [
    "#### 3.5 한나눔 Hannanum 사용 토큰화"
   ]
  },
  {
   "cell_type": "markdown",
   "metadata": {},
   "source": [
    "### <b>4.0 정수 인코딩</b>"
   ]
  },
  {
   "cell_type": "markdown",
   "metadata": {},
   "source": [
    "#### 4.1 Okt 정수 인코딩"
   ]
  },
  {
   "cell_type": "code",
   "execution_count": 114,
   "metadata": {},
   "outputs": [],
   "source": [
    "# 토큰화 완료되어 csv 형식으로 저장한 데이터 불러오기\n",
    "\n",
    "X_train = pd.read_csv('./data/okt/tokenized_train.csv')\n",
    "X_train = pd.Series(X_train['0'])\n",
    "\n",
    "X_test = pd.read_csv(\"./data/okt/tokenized_test.csv\")\n",
    "X_test = pd.Series(X_test['0'])"
   ]
  },
  {
   "cell_type": "code",
   "execution_count": 115,
   "metadata": {},
   "outputs": [
    {
     "name": "stdout",
     "output_type": "stream",
     "text": [
      "단어 집합(vocabulary)의 크기 : 42352\n",
      "등장 빈도가 2번 이하인 희귀 단어의 수: 22958\n",
      "단어 집합에서 희귀 단어의 비율: 54.20759350207782\n",
      "전체 등장 빈도에서 희귀 단어 등장 빈도 비율: 1.2714981715409146\n",
      "단어 집합의 크기 : 19395\n"
     ]
    }
   ],
   "source": [
    "tokenizer = Tokenizer()\n",
    "tokenizer.fit_on_texts(X_train)\n",
    "\n",
    "threshold = 3\n",
    "total_cnt = len(tokenizer.word_index) # 단어의 수\n",
    "rare_cnt = 0 # 등장 빈도수가 threshold보다 작은 단어의 개수를 카운트\n",
    "total_freq = 0 # 훈련 데이터의 전체 단어 빈도수 총 합\n",
    "rare_freq = 0 # 등장 빈도수가 threshold보다 작은 단어의 등장 빈도\n",
    "\n",
    "# 단어와 빈도수의 쌍(pair)을 key와 value로 받는다.\n",
    "for key, value in tokenizer.word_counts.items():\n",
    "    total_freq = total_freq + value\n",
    "\n",
    "    # 단어의 등장 빈도수가 threshold보다 작으면\n",
    "    if(value < threshold):\n",
    "        rare_cnt = rare_cnt + 1\n",
    "        rare_freq = rare_freq + value\n",
    "\n",
    "print('단어 집합(vocabulary)의 크기 :',total_cnt)\n",
    "print('등장 빈도가 %s번 이하인 희귀 단어의 수: %s'%(threshold - 1, rare_cnt))\n",
    "print(\"단어 집합에서 희귀 단어의 비율:\", (rare_cnt / total_cnt)*100)\n",
    "print(\"전체 등장 빈도에서 희귀 단어 등장 빈도 비율:\", (rare_freq / total_freq)*100)\n",
    "\n",
    "# 전체 단어 개수 중 빈도수 2이하인 단어는 제거.\n",
    "# 0번 패딩 토큰을 고려하여 + 1\n",
    "vocab_size = total_cnt - rare_cnt + 1\n",
    "print('단어 집합의 크기 :',vocab_size)"
   ]
  },
  {
   "cell_type": "code",
   "execution_count": 116,
   "metadata": {},
   "outputs": [],
   "source": [
    "tokenizer = Tokenizer(vocab_size) \n",
    "tokenizer.fit_on_texts(X_train)\n",
    "X_train = tokenizer.texts_to_sequences(X_train)\n",
    "X_test = tokenizer.texts_to_sequences(X_test)\n",
    "\n",
    "y_train = np.array(train_data['label'])\n",
    "y_test = np.array(test_data['label'])"
   ]
  },
  {
   "cell_type": "markdown",
   "metadata": {},
   "source": [
    "#### 4.2 Mecab 정수 인코딩"
   ]
  },
  {
   "cell_type": "code",
   "execution_count": 10,
   "metadata": {},
   "outputs": [],
   "source": [
    "# 토큰화 완료되어 csv 형식으로 저장한 데이터 불러오기\n",
    "\n",
    "X_train = pd.read_csv('./data/mecab/tokenized_train.csv')\n",
    "X_train = pd.Series(X_train['0'])\n",
    "\n",
    "X_test = pd.read_csv(\"./data/mecab/tokenized_test.csv\")\n",
    "X_test = pd.Series(X_test['0'])"
   ]
  },
  {
   "cell_type": "code",
   "execution_count": 11,
   "metadata": {},
   "outputs": [
    {
     "name": "stdout",
     "output_type": "stream",
     "text": [
      "단어 집합(vocabulary)의 크기 : 47175\n",
      "등장 빈도가 2번 이하인 희귀 단어의 수: 25322\n",
      "단어 집합에서 희귀 단어의 비율: 53.6767355590885\n",
      "전체 등장 빈도에서 희귀 단어 등장 빈도 비율: 1.1698215913387684\n",
      "단어 집합의 크기 : 21854\n"
     ]
    }
   ],
   "source": [
    "tokenizer = Tokenizer()\n",
    "tokenizer.fit_on_texts(X_train)\n",
    "\n",
    "threshold = 3\n",
    "total_cnt = len(tokenizer.word_index) # 단어의 수\n",
    "rare_cnt = 0 # 등장 빈도수가 threshold보다 작은 단어의 개수를 카운트\n",
    "total_freq = 0 # 훈련 데이터의 전체 단어 빈도수 총 합\n",
    "rare_freq = 0 # 등장 빈도수가 threshold보다 작은 단어의 등장 빈도\n",
    "\n",
    "# 단어와 빈도수의 쌍(pair)을 key와 value로 받는다.\n",
    "for key, value in tokenizer.word_counts.items():\n",
    "    total_freq = total_freq + value\n",
    "\n",
    "    # 단어의 등장 빈도수가 threshold보다 작으면\n",
    "    if(value < threshold):\n",
    "        rare_cnt = rare_cnt + 1\n",
    "        rare_freq = rare_freq + value\n",
    "\n",
    "print('단어 집합(vocabulary)의 크기 :',total_cnt)\n",
    "print('등장 빈도가 %s번 이하인 희귀 단어의 수: %s'%(threshold - 1, rare_cnt))\n",
    "print(\"단어 집합에서 희귀 단어의 비율:\", (rare_cnt / total_cnt)*100)\n",
    "print(\"전체 등장 빈도에서 희귀 단어 등장 빈도 비율:\", (rare_freq / total_freq)*100)\n",
    "\n",
    "# 전체 단어 개수 중 빈도수 2이하인 단어는 제거.\n",
    "# 0번 패딩 토큰을 고려하여 + 1\n",
    "vocab_size = total_cnt - rare_cnt + 1\n",
    "print('단어 집합의 크기 :',vocab_size)"
   ]
  },
  {
   "cell_type": "code",
   "execution_count": 12,
   "metadata": {},
   "outputs": [],
   "source": [
    "tokenizer = Tokenizer(vocab_size) \n",
    "tokenizer.fit_on_texts(X_train)\n",
    "X_train = tokenizer.texts_to_sequences(X_train)\n",
    "X_test = tokenizer.texts_to_sequences(X_test)\n",
    "\n",
    "y_train = np.array(train_data['label'])\n",
    "y_test = np.array(test_data['label'])"
   ]
  },
  {
   "cell_type": "markdown",
   "metadata": {},
   "source": [
    "### <b>5.0 패딩</b>"
   ]
  },
  {
   "cell_type": "markdown",
   "metadata": {},
   "source": [
    "#### 5.1 Okt 패딩"
   ]
  },
  {
   "cell_type": "code",
   "execution_count": 117,
   "metadata": {},
   "outputs": [
    {
     "name": "stdout",
     "output_type": "stream",
     "text": [
      "train data 개수:  156051\n",
      "test data 개수:  48852\n"
     ]
    },
    {
     "name": "stderr",
     "output_type": "stream",
     "text": [
      "C:\\Users\\Huitaek\\anaconda3\\lib\\site-packages\\numpy\\core\\_asarray.py:83: VisibleDeprecationWarning: Creating an ndarray from ragged nested sequences (which is a list-or-tuple of lists-or-tuples-or ndarrays with different lengths or shapes) is deprecated. If you meant to do this, you must specify 'dtype=object' when creating the ndarray\n",
      "  return array(a, dtype, copy=False, order=order)\n"
     ]
    }
   ],
   "source": [
    "# 문장 길이가 0 인 로우 삭제\n",
    "\n",
    "drop_train = [index for index, sentence in enumerate(X_train) if len(sentence) < 1]\n",
    "\n",
    "X_train = np.delete(X_train, drop_train, axis=0)\n",
    "y_train = np.delete(y_train, drop_train, axis=0)\n",
    "\n",
    "print('train data 개수: ', len(train_data))\n",
    "print('test data 개수: ', len(test_data))"
   ]
  },
  {
   "cell_type": "code",
   "execution_count": 123,
   "metadata": {},
   "outputs": [
    {
     "name": "stdout",
     "output_type": "stream",
     "text": [
      "리뷰의 최대 길이 : 387\n",
      "리뷰의 평균 길이 : 14.137314907485822\n"
     ]
    },
    {
     "data": {
      "image/png": "[encoded data removed]",
      "text/plain": [
       "<Figure size 432x288 with 1 Axes>"
      ]
     },
     "metadata": {
      "needs_background": "light"
     },
     "output_type": "display_data"
    },
    {
     "name": "stdout",
     "output_type": "stream",
     "text": [
      "전체 샘플 중 길이가 45 이하인 샘플의 비율: 95.80478353478584\n"
     ]
    }
   ],
   "source": [
    "# max_len 결정\n",
    "\n",
    "import matplotlib.pyplot as plt\n",
    "\n",
    "print('리뷰의 최대 길이 :',max(len(review) for review in X_train))\n",
    "print('리뷰의 평균 길이 :',sum(map(len, X_train))/len(X_train))\n",
    "\n",
    "plt.hist([len(review) for review in X_train], bins=50)\n",
    "plt.xlabel('length of samples')\n",
    "plt.ylabel('number of samples')\n",
    "plt.show()\n",
    "\n",
    "def below_threshold_len(max_len, nested_list):\n",
    "    count = 0\n",
    "    for sentence in nested_list:\n",
    "        if(len(sentence) <= max_len):\n",
    "            count = count + 1\n",
    "    print('전체 샘플 중 길이가 %s 이하인 샘플의 비율: %s'%(max_len, (count / len(nested_list))*100))\n",
    "    \n",
    "    \n",
    "\n",
    "max_len = 45\n",
    "below_threshold_len(max_len, X_train)"
   ]
  },
  {
   "cell_type": "code",
   "execution_count": 124,
   "metadata": {},
   "outputs": [],
   "source": [
    "# max_len 에 맞게 데이터셋 패딩\n",
    "\n",
    "from tensorflow.keras.preprocessing.sequence import pad_sequences\n",
    "\n",
    "X_train = pad_sequences(X_train, maxlen=max_len)\n",
    "X_test = pad_sequences(X_test, maxlen=max_len)"
   ]
  },
  {
   "cell_type": "code",
   "execution_count": 125,
   "metadata": {},
   "outputs": [
    {
     "name": "stdout",
     "output_type": "stream",
     "text": [
      "155868 48852 155868 48852\n"
     ]
    }
   ],
   "source": [
    "# 데이터 셋 저장\n",
    "\n",
    "temp = pd.DataFrame(X_train)\n",
    "temp.to_csv('./data/okt/X_train.csv', index=False)\n",
    "temp = pd.DataFrame(X_test)\n",
    "temp.to_csv('./data/okt/X_test.csv', index=False)\n",
    "temp = pd.DataFrame(y_train)\n",
    "temp.to_csv('./data/okt/y_train.csv', index=False)\n",
    "temp = pd.DataFrame(y_test)\n",
    "temp.to_csv('./data/okt/y_test.csv', index=False)\n",
    "\n",
    "print(len(X_train), len(X_test), len(y_train), len(y_test))"
   ]
  },
  {
   "cell_type": "markdown",
   "metadata": {},
   "source": [
    "#### 5.2 Mecab 패딩"
   ]
  },
  {
   "cell_type": "code",
   "execution_count": 13,
   "metadata": {},
   "outputs": [
    {
     "name": "stdout",
     "output_type": "stream",
     "text": [
      "train data 개수:  156051\n",
      "test data 개수:  48852\n"
     ]
    },
    {
     "name": "stderr",
     "output_type": "stream",
     "text": [
      "C:\\Users\\User\\anaconda3\\lib\\site-packages\\numpy\\core\\_asarray.py:83: VisibleDeprecationWarning: Creating an ndarray from ragged nested sequences (which is a list-or-tuple of lists-or-tuples-or ndarrays with different lengths or shapes) is deprecated. If you meant to do this, you must specify 'dtype=object' when creating the ndarray\n",
      "  return array(a, dtype, copy=False, order=order)\n"
     ]
    }
   ],
   "source": [
    "# 문장 길이가 0 인 로우 삭제\n",
    "\n",
    "drop_train = [index for index, sentence in enumerate(X_train) if len(sentence) < 1]\n",
    "\n",
    "X_train = np.delete(X_train, drop_train, axis=0)\n",
    "y_train = np.delete(y_train, drop_train, axis=0)\n",
    "\n",
    "print('train data 개수: ', len(train_data))\n",
    "print('test data 개수: ', len(test_data))"
   ]
  },
  {
   "cell_type": "code",
   "execution_count": 14,
   "metadata": {},
   "outputs": [
    {
     "name": "stdout",
     "output_type": "stream",
     "text": [
      "리뷰의 최대 길이 : 448\n",
      "리뷰의 평균 길이 : 17.348027113166047\n"
     ]
    },
    {
     "data": {
      "image/png": "[encoded data removed]",
      "text/plain": [
       "<Figure size 432x288 with 1 Axes>"
      ]
     },
     "metadata": {
      "needs_background": "light"
     },
     "output_type": "display_data"
    },
    {
     "name": "stdout",
     "output_type": "stream",
     "text": [
      "전체 샘플 중 길이가 45 이하인 샘플의 비율: 93.10499618440544\n"
     ]
    }
   ],
   "source": [
    "# max_len 결정\n",
    "\n",
    "import matplotlib.pyplot as plt\n",
    "\n",
    "print('리뷰의 최대 길이 :',max(len(review) for review in X_train))\n",
    "print('리뷰의 평균 길이 :',sum(map(len, X_train))/len(X_train))\n",
    "\n",
    "plt.hist([len(review) for review in X_train], bins=50)\n",
    "plt.xlabel('length of samples')\n",
    "plt.ylabel('number of samples')\n",
    "plt.show()\n",
    "\n",
    "def below_threshold_len(max_len, nested_list):\n",
    "    count = 0\n",
    "    for sentence in nested_list:\n",
    "        if(len(sentence) <= max_len):\n",
    "            count = count + 1\n",
    "    print('전체 샘플 중 길이가 %s 이하인 샘플의 비율: %s'%(max_len, (count / len(nested_list))*100))\n",
    "    \n",
    "    \n",
    "\n",
    "max_len = 45\n",
    "below_threshold_len(max_len, X_train)"
   ]
  },
  {
   "cell_type": "code",
   "execution_count": 15,
   "metadata": {},
   "outputs": [],
   "source": [
    "# max_len 에 맞게 데이터셋 패딩\n",
    "\n",
    "from tensorflow.keras.preprocessing.sequence import pad_sequences\n",
    "\n",
    "X_train = pad_sequences(X_train, maxlen=max_len)\n",
    "X_test = pad_sequences(X_test, maxlen=max_len)"
   ]
  },
  {
   "cell_type": "code",
   "execution_count": 16,
   "metadata": {},
   "outputs": [
    {
     "name": "stdout",
     "output_type": "stream",
     "text": [
      "155939 48852 155939 48852\n"
     ]
    }
   ],
   "source": [
    "# 데이터 셋 저장\n",
    "\n",
    "temp = pd.DataFrame(X_train)\n",
    "temp.to_csv('./data/mecab/X_train.csv', index=False)\n",
    "temp = pd.DataFrame(X_test)\n",
    "temp.to_csv('./data/mecab/X_test.csv', index=False)\n",
    "temp = pd.DataFrame(y_train)\n",
    "temp.to_csv('./data/mecab/y_train.csv', index=False)\n",
    "temp = pd.DataFrame(y_test)\n",
    "temp.to_csv('./data/mecab/y_test.csv', index=False)\n",
    "\n",
    "print(len(X_train), len(X_test), len(y_train), len(y_test))"
   ]
  }
 ],
 "metadata": {
  "interpreter": {
   "hash": "099c82bb4ace82ade8ea00d06692c6005c84f3239a96c9207fc6992d929102eb"
  },
  "kernelspec": {
   "display_name": "Python 3.8.8 ('base')",
   "language": "python",
   "name": "python3"
  },
  "language_info": {
   "codemirror_mode": {
    "name": "ipython",
    "version": 3
   },
   "file_extension": ".py",
   "mimetype": "text/x-python",
   "name": "python",
   "nbconvert_exporter": "python",
   "pygments_lexer": "ipython3",
   "version": "3.9.7"
  },
  "orig_nbformat": 4
 },
 "nbformat": 4,
 "nbformat_minor": 2
}

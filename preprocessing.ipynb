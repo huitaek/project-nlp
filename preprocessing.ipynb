{
 "cells": [
  {
   "cell_type": "markdown",
   "metadata": {},
   "source": [
    "## Preprocessing"
   ]
  },
  {
   "cell_type": "markdown",
   "metadata": {},
   "source": [
    "### 0. 사용 라이브러리"
   ]
  },
  {
   "cell_type": "code",
   "execution_count": 208,
   "metadata": {},
   "outputs": [],
   "source": [
    "import pandas as pd\n",
    "import numpy as np\n",
    "\n",
    "from konlpy.tag import Okt\n",
    "\n",
    "# !pip install git+https://github.com/haven-jeon/PyKoSpacing.git\n",
    "# !pip install git+https://github.com/ssut/py-hanspell.git\n",
    "\n",
    "from pykospacing import Spacing\n",
    "from hanspell import spell_checker"
   ]
  },
  {
   "cell_type": "markdown",
   "metadata": {},
   "source": [
    "### 1. 데이터 불러오기"
   ]
  },
  {
   "cell_type": "code",
   "execution_count": 209,
   "metadata": {},
   "outputs": [],
   "source": [
    "# 데이터 불러오기\n",
    "\n",
    "train_data = pd.read_table('./data/ratings_train.txt')\n",
    "test_data = pd.read_table('./data/ratings_test.txt')\n"
   ]
  },
  {
   "cell_type": "code",
   "execution_count": 210,
   "metadata": {},
   "outputs": [
    {
     "name": "stdout",
     "output_type": "stream",
     "text": [
      "<class 'pandas.core.frame.DataFrame'>\n",
      "RangeIndex: 150000 entries, 0 to 149999\n",
      "Data columns (total 3 columns):\n",
      " #   Column    Non-Null Count   Dtype \n",
      "---  ------    --------------   ----- \n",
      " 0   id        150000 non-null  int64 \n",
      " 1   document  149995 non-null  object\n",
      " 2   label     150000 non-null  int64 \n",
      "dtypes: int64(2), object(1)\n",
      "memory usage: 3.4+ MB\n"
     ]
    }
   ],
   "source": [
    "train_data.info() # 150000 row"
   ]
  },
  {
   "cell_type": "code",
   "execution_count": 211,
   "metadata": {},
   "outputs": [
    {
     "name": "stdout",
     "output_type": "stream",
     "text": [
      "<class 'pandas.core.frame.DataFrame'>\n",
      "RangeIndex: 50000 entries, 0 to 49999\n",
      "Data columns (total 3 columns):\n",
      " #   Column    Non-Null Count  Dtype \n",
      "---  ------    --------------  ----- \n",
      " 0   id        50000 non-null  int64 \n",
      " 1   document  49997 non-null  object\n",
      " 2   label     50000 non-null  int64 \n",
      "dtypes: int64(2), object(1)\n",
      "memory usage: 1.1+ MB\n"
     ]
    }
   ],
   "source": [
    "test_data.info() # 50000 row"
   ]
  },
  {
   "cell_type": "markdown",
   "metadata": {},
   "source": [
    "### 2. 데이터 정제"
   ]
  },
  {
   "cell_type": "markdown",
   "metadata": {},
   "source": [
    "#### 2.1 중복값 처리"
   ]
  },
  {
   "cell_type": "code",
   "execution_count": 212,
   "metadata": {},
   "outputs": [
    {
     "name": "stdout",
     "output_type": "stream",
     "text": [
      "id 중복값:  0\n",
      "document 중복값:  3812\n",
      "label 값:  [0 1]\n"
     ]
    }
   ],
   "source": [
    "# train_data 중복값 확인\n",
    "\n",
    "print('id 중복값: ', train_data['id'].notnull().sum() - len(train_data['id'].unique()))\n",
    "print('document 중복값: ', train_data['document'].notnull().sum() - len(train_data['document'].unique()))\n",
    "\n",
    "print('label 값: ', train_data['label'].unique()) # 0, 1"
   ]
  },
  {
   "cell_type": "code",
   "execution_count": 213,
   "metadata": {},
   "outputs": [
    {
     "name": "stdout",
     "output_type": "stream",
     "text": [
      "id 중복값:  0\n",
      "document 중복값:  839\n",
      "label 값:  [1 0]\n"
     ]
    }
   ],
   "source": [
    "# test_data 중복값 확인\n",
    "\n",
    "print('id 중복값: ', test_data['id'].notnull().sum() - len(test_data['id'].unique()))\n",
    "print('document 중복값: ', test_data['document'].notnull().sum() - len(test_data['document'].unique()))\n",
    "\n",
    "print('label 값: ', test_data['label'].unique()) # 0, 1"
   ]
  },
  {
   "cell_type": "code",
   "execution_count": 214,
   "metadata": {},
   "outputs": [
    {
     "name": "stdout",
     "output_type": "stream",
     "text": [
      "146183 49158\n"
     ]
    }
   ],
   "source": [
    "# 중복값 제거\n",
    "\n",
    "train_data.drop_duplicates(['document'], inplace=True)\n",
    "test_data.drop_duplicates(['document'], inplace=True)\n",
    "\n",
    "print(len(train_data), len(test_data))"
   ]
  },
  {
   "cell_type": "markdown",
   "metadata": {},
   "source": [
    "#### 2.2 구두점, 특수문자 제거"
   ]
  },
  {
   "cell_type": "code",
   "execution_count": 215,
   "metadata": {},
   "outputs": [
    {
     "name": "stderr",
     "output_type": "stream",
     "text": [
      "<ipython-input-215-152f18873e90>:1: FutureWarning: The default value of regex will change from True to False in a future version.\n",
      "  train_data['document'] = train_data['document'].str.replace('[^ㄱ-ㅎㅏ-ㅣ가-힣 ]','') # [ㄱ - ㅎ, ㅏ - ㅣ, 가 - 핳] 제외 제거\n",
      "<ipython-input-215-152f18873e90>:2: FutureWarning: The default value of regex will change from True to False in a future version.\n",
      "  train_data['document'] = train_data['document'].str.replace('^ +', '') # 화이트 스페이스 제거\n",
      "<ipython-input-215-152f18873e90>:4: FutureWarning: The default value of regex will change from True to False in a future version.\n",
      "  test_data['document'] = test_data['document'].str.replace('[^ㄱ-ㅎㅏ-ㅣ가-힣 ]','')\n",
      "<ipython-input-215-152f18873e90>:5: FutureWarning: The default value of regex will change from True to False in a future version.\n",
      "  test_data['document'] = test_data['document'].str.replace('^ +', '')\n"
     ]
    }
   ],
   "source": [
    "train_data['document'] = train_data['document'].str.replace('[^ㄱ-ㅎㅏ-ㅣ가-힣 ]','') # [ㄱ - ㅎ, ㅏ - ㅣ, 가 - 핳] 제외 제거\n",
    "train_data['document'] = train_data['document'].str.replace('^ +', '') # 화이트 스페이스 제거\n",
    "\n",
    "test_data['document'] = test_data['document'].str.replace('[^ㄱ-ㅎㅏ-ㅣ가-힣 ]','')\n",
    "test_data['document'] = test_data['document'].str.replace('^ +', '')"
   ]
  },
  {
   "cell_type": "markdown",
   "metadata": {},
   "source": [
    "#### 2.3 결측치 처리"
   ]
  },
  {
   "cell_type": "code",
   "execution_count": 216,
   "metadata": {},
   "outputs": [
    {
     "name": "stdout",
     "output_type": "stream",
     "text": [
      "789 1\n"
     ]
    },
    {
     "data": {
      "text/html": [
       "<div>\n",
       "<style scoped>\n",
       "    .dataframe tbody tr th:only-of-type {\n",
       "        vertical-align: middle;\n",
       "    }\n",
       "\n",
       "    .dataframe tbody tr th {\n",
       "        vertical-align: top;\n",
       "    }\n",
       "\n",
       "    .dataframe thead th {\n",
       "        text-align: right;\n",
       "    }\n",
       "</style>\n",
       "<table border=\"1\" class=\"dataframe\">\n",
       "  <thead>\n",
       "    <tr style=\"text-align: right;\">\n",
       "      <th></th>\n",
       "      <th>id</th>\n",
       "      <th>document</th>\n",
       "      <th>label</th>\n",
       "    </tr>\n",
       "  </thead>\n",
       "  <tbody>\n",
       "    <tr>\n",
       "      <th>404</th>\n",
       "      <td>4221289</td>\n",
       "      <td>NaN</td>\n",
       "      <td>0</td>\n",
       "    </tr>\n",
       "    <tr>\n",
       "      <th>412</th>\n",
       "      <td>9509970</td>\n",
       "      <td>NaN</td>\n",
       "      <td>1</td>\n",
       "    </tr>\n",
       "    <tr>\n",
       "      <th>470</th>\n",
       "      <td>10147571</td>\n",
       "      <td>NaN</td>\n",
       "      <td>1</td>\n",
       "    </tr>\n",
       "    <tr>\n",
       "      <th>584</th>\n",
       "      <td>7117896</td>\n",
       "      <td>NaN</td>\n",
       "      <td>0</td>\n",
       "    </tr>\n",
       "    <tr>\n",
       "      <th>593</th>\n",
       "      <td>6478189</td>\n",
       "      <td>NaN</td>\n",
       "      <td>0</td>\n",
       "    </tr>\n",
       "    <tr>\n",
       "      <th>...</th>\n",
       "      <td>...</td>\n",
       "      <td>...</td>\n",
       "      <td>...</td>\n",
       "    </tr>\n",
       "    <tr>\n",
       "      <th>149309</th>\n",
       "      <td>6715725</td>\n",
       "      <td>NaN</td>\n",
       "      <td>1</td>\n",
       "    </tr>\n",
       "    <tr>\n",
       "      <th>149358</th>\n",
       "      <td>6780491</td>\n",
       "      <td>NaN</td>\n",
       "      <td>0</td>\n",
       "    </tr>\n",
       "    <tr>\n",
       "      <th>149364</th>\n",
       "      <td>8014701</td>\n",
       "      <td>NaN</td>\n",
       "      <td>1</td>\n",
       "    </tr>\n",
       "    <tr>\n",
       "      <th>149630</th>\n",
       "      <td>3508604</td>\n",
       "      <td>NaN</td>\n",
       "      <td>0</td>\n",
       "    </tr>\n",
       "    <tr>\n",
       "      <th>149773</th>\n",
       "      <td>9233162</td>\n",
       "      <td>NaN</td>\n",
       "      <td>0</td>\n",
       "    </tr>\n",
       "  </tbody>\n",
       "</table>\n",
       "<p>790 rows × 3 columns</p>\n",
       "</div>"
      ],
      "text/plain": [
       "              id document  label\n",
       "404      4221289      NaN      0\n",
       "412      9509970      NaN      1\n",
       "470     10147571      NaN      1\n",
       "584      7117896      NaN      0\n",
       "593      6478189      NaN      0\n",
       "...          ...      ...    ...\n",
       "149309   6715725      NaN      1\n",
       "149358   6780491      NaN      0\n",
       "149364   8014701      NaN      1\n",
       "149630   3508604      NaN      0\n",
       "149773   9233162      NaN      0\n",
       "\n",
       "[790 rows x 3 columns]"
      ]
     },
     "execution_count": 216,
     "metadata": {},
     "output_type": "execute_result"
    }
   ],
   "source": [
    "# 결측치 확인\n",
    "\n",
    "print(len(train_data[train_data['document']==\"\"]), train_data['document'].isnull().sum())\n",
    "train_data.replace(\"\", np.nan, inplace=True) # 비어있는 값 null로 변환\n",
    "train_data[train_data['document'].isnull()==True]"
   ]
  },
  {
   "cell_type": "code",
   "execution_count": 217,
   "metadata": {},
   "outputs": [
    {
     "name": "stdout",
     "output_type": "stream",
     "text": [
      "305 1\n"
     ]
    },
    {
     "data": {
      "text/html": [
       "<div>\n",
       "<style scoped>\n",
       "    .dataframe tbody tr th:only-of-type {\n",
       "        vertical-align: middle;\n",
       "    }\n",
       "\n",
       "    .dataframe tbody tr th {\n",
       "        vertical-align: top;\n",
       "    }\n",
       "\n",
       "    .dataframe thead th {\n",
       "        text-align: right;\n",
       "    }\n",
       "</style>\n",
       "<table border=\"1\" class=\"dataframe\">\n",
       "  <thead>\n",
       "    <tr style=\"text-align: right;\">\n",
       "      <th></th>\n",
       "      <th>id</th>\n",
       "      <th>document</th>\n",
       "      <th>label</th>\n",
       "    </tr>\n",
       "  </thead>\n",
       "  <tbody>\n",
       "    <tr>\n",
       "      <th>1</th>\n",
       "      <td>9274899</td>\n",
       "      <td>NaN</td>\n",
       "      <td>0</td>\n",
       "    </tr>\n",
       "    <tr>\n",
       "      <th>116</th>\n",
       "      <td>6910486</td>\n",
       "      <td>NaN</td>\n",
       "      <td>1</td>\n",
       "    </tr>\n",
       "    <tr>\n",
       "      <th>254</th>\n",
       "      <td>4976468</td>\n",
       "      <td>NaN</td>\n",
       "      <td>0</td>\n",
       "    </tr>\n",
       "    <tr>\n",
       "      <th>468</th>\n",
       "      <td>7517102</td>\n",
       "      <td>NaN</td>\n",
       "      <td>0</td>\n",
       "    </tr>\n",
       "    <tr>\n",
       "      <th>504</th>\n",
       "      <td>2096424</td>\n",
       "      <td>NaN</td>\n",
       "      <td>0</td>\n",
       "    </tr>\n",
       "    <tr>\n",
       "      <th>...</th>\n",
       "      <td>...</td>\n",
       "      <td>...</td>\n",
       "      <td>...</td>\n",
       "    </tr>\n",
       "    <tr>\n",
       "      <th>49420</th>\n",
       "      <td>5187147</td>\n",
       "      <td>NaN</td>\n",
       "      <td>0</td>\n",
       "    </tr>\n",
       "    <tr>\n",
       "      <th>49459</th>\n",
       "      <td>6381245</td>\n",
       "      <td>NaN</td>\n",
       "      <td>1</td>\n",
       "    </tr>\n",
       "    <tr>\n",
       "      <th>49803</th>\n",
       "      <td>5309713</td>\n",
       "      <td>NaN</td>\n",
       "      <td>1</td>\n",
       "    </tr>\n",
       "    <tr>\n",
       "      <th>49871</th>\n",
       "      <td>9767991</td>\n",
       "      <td>NaN</td>\n",
       "      <td>0</td>\n",
       "    </tr>\n",
       "    <tr>\n",
       "      <th>49978</th>\n",
       "      <td>2306407</td>\n",
       "      <td>NaN</td>\n",
       "      <td>1</td>\n",
       "    </tr>\n",
       "  </tbody>\n",
       "</table>\n",
       "<p>306 rows × 3 columns</p>\n",
       "</div>"
      ],
      "text/plain": [
       "            id document  label\n",
       "1      9274899      NaN      0\n",
       "116    6910486      NaN      1\n",
       "254    4976468      NaN      0\n",
       "468    7517102      NaN      0\n",
       "504    2096424      NaN      0\n",
       "...        ...      ...    ...\n",
       "49420  5187147      NaN      0\n",
       "49459  6381245      NaN      1\n",
       "49803  5309713      NaN      1\n",
       "49871  9767991      NaN      0\n",
       "49978  2306407      NaN      1\n",
       "\n",
       "[306 rows x 3 columns]"
      ]
     },
     "execution_count": 217,
     "metadata": {},
     "output_type": "execute_result"
    }
   ],
   "source": [
    "# 결측치 확인\n",
    "\n",
    "print(len(test_data[test_data['document']==\"\"]), test_data['document'].isnull().sum())\n",
    "test_data.replace(\"\", np.nan, inplace=True) # 비어있는 값 null로 변환\n",
    "test_data[test_data['document'].isnull()==True]"
   ]
  },
  {
   "cell_type": "code",
   "execution_count": 218,
   "metadata": {},
   "outputs": [],
   "source": [
    "# 결측치 제거\n",
    "\n",
    "train_data.dropna(inplace=True)\n",
    "test_data.dropna(inplace=True)"
   ]
  },
  {
   "cell_type": "code",
   "execution_count": 219,
   "metadata": {},
   "outputs": [
    {
     "name": "stdout",
     "output_type": "stream",
     "text": [
      "0 0\n",
      "145393 48852\n"
     ]
    }
   ],
   "source": [
    "# 결측치 확인\n",
    "\n",
    "print(train_data['document'].isnull().sum(), test_data['document'].isnull().sum())\n",
    "print(len(train_data), len(test_data))"
   ]
  },
  {
   "cell_type": "markdown",
   "metadata": {},
   "source": [
    "### 3. 띄어쓰기, 맞춤법"
   ]
  },
  {
   "cell_type": "code",
   "execution_count": 220,
   "metadata": {},
   "outputs": [
    {
     "name": "stdout",
     "output_type": "stream",
     "text": [
      "흠포스터보고 초딩영화줄오버연기조차 가볍지 않구나\n",
      "흠포스터 보고 초딩 영화 줄오버 연기조차 가볍지 않구나\n"
     ]
    }
   ],
   "source": [
    "spacing = Spacing()\n",
    "\n",
    "test_sentence = train_data.iloc[1, 1]\n",
    "spaced_sentence = spacing(test_sentence)\n",
    "print(test_sentence)\n",
    "print(spaced_sentence)"
   ]
  },
  {
   "cell_type": "code",
   "execution_count": 221,
   "metadata": {},
   "outputs": [
    {
     "name": "stdout",
     "output_type": "stream",
     "text": [
      "너무재밓었다그래서보는것을추천한다\n",
      "너무 재밓었다 그래서 보는 것을 추천한다\n"
     ]
    }
   ],
   "source": [
    "test_sentence = train_data.iloc[2, 1]\n",
    "spaced_sentence = spacing(test_sentence)\n",
    "print(test_sentence)\n",
    "print(spaced_sentence)"
   ]
  },
  {
   "cell_type": "code",
   "execution_count": 222,
   "metadata": {},
   "outputs": [
    {
     "name": "stdout",
     "output_type": "stream",
     "text": [
      "걍인피니트가짱이다진짜짱이다\n",
      "걍 인피니트가 짱이 다 진짜 짱이다\n"
     ]
    }
   ],
   "source": [
    "test_sentence = train_data.iloc[10, 1]\n",
    "spaced_sentence = spacing(test_sentence)\n",
    "print(test_sentence)\n",
    "print(spaced_sentence)"
   ]
  },
  {
   "cell_type": "code",
   "execution_count": 223,
   "metadata": {},
   "outputs": [],
   "source": [
    "train_data['document'] = train_data['document'].apply(spacing)\n"
   ]
  },
  {
   "cell_type": "code",
   "execution_count": 224,
   "metadata": {},
   "outputs": [
    {
     "data": {
      "text/plain": [
       "id                      9008700\n",
       "document    걍 인피니트가 짱이 다 진짜 짱이다\n",
       "label                         1\n",
       "Name: 10, dtype: object"
      ]
     },
     "execution_count": 224,
     "metadata": {},
     "output_type": "execute_result"
    }
   ],
   "source": [
    "train_data.iloc[10]"
   ]
  },
  {
   "cell_type": "code",
   "execution_count": 227,
   "metadata": {},
   "outputs": [],
   "source": [
    "spaced_train_data = train_data.copy()\n",
    "spaced_train_data.to_csv('./data/ratings_train_spaced.csv', index=False)"
   ]
  },
  {
   "cell_type": "markdown",
   "metadata": {},
   "source": [
    "### 3. 토큰화"
   ]
  },
  {
   "cell_type": "markdown",
   "metadata": {},
   "source": [
    "형태소 분석기 종류\n",
    "Okt(Open Korea Text), 메캅(Mecab), 코모란(Komoran), 한나눔(Hannanum), 꼬꼬마(Kkma)"
   ]
  },
  {
   "cell_type": "markdown",
   "metadata": {},
   "source": [
    "#### 3.1 Okt(Open Korea Text)"
   ]
  },
  {
   "cell_type": "code",
   "execution_count": 230,
   "metadata": {},
   "outputs": [],
   "source": [
    "test_sentence = train_data.iloc[10, 1]"
   ]
  },
  {
   "cell_type": "code",
   "execution_count": 231,
   "metadata": {},
   "outputs": [
    {
     "name": "stdout",
     "output_type": "stream",
     "text": [
      "OKT 형태소 분석 : ['걍', '인피니트', '가', '짱', '이', '다', '진짜', '짱', '이다']\n",
      "OKT 품사 태깅 : [('걍', 'Adverb'), ('인피니트', 'Noun'), ('가', 'Josa'), ('짱', 'Noun'), ('이', 'Josa'), ('다', 'Adverb'), ('진짜', 'Noun'), ('짱', 'Noun'), ('이다', 'Josa')]\n",
      "OKT 명사 추출 : ['인피니트', '짱', '진짜', '짱']\n"
     ]
    }
   ],
   "source": [
    "from konlpy.tag import Okt\n",
    "\n",
    "okt = Okt()\n",
    "\n",
    "print('OKT 형태소 분석 :',okt.morphs(test_sentence))\n",
    "print('OKT 품사 태깅 :',okt.pos(test_sentence))\n",
    "print('OKT 명사 추출 :',okt.nouns(test_sentence)) "
   ]
  },
  {
   "cell_type": "markdown",
   "metadata": {},
   "source": [
    "#### 3.2 꼬꼬마 Kkma"
   ]
  },
  {
   "cell_type": "code",
   "execution_count": 232,
   "metadata": {},
   "outputs": [
    {
     "name": "stdout",
     "output_type": "stream",
     "text": [
      "꼬꼬마 형태소 분석 : ['걍', '인피', '니트', '가', '짱', '이', '다', '진짜', '짱', '이', '다']\n",
      "꼬꼬마 품사 태깅 : [('걍', 'MAG'), ('인피', 'NNG'), ('니트', 'NNG'), ('가', 'JKS'), ('짱', 'NNG'), ('이', 'JKS'), ('다', 'MAG'), ('진짜', 'MAG'), ('짱', 'NNG'), ('이', 'VCP'), ('다', 'EFN')]\n",
      "꼬꼬마 명사 추출 : ['인피', '인피니트', '니트', '짱']\n"
     ]
    }
   ],
   "source": [
    "from konlpy.tag import Kkma\n",
    "\n",
    "kkma = Kkma()\n",
    "\n",
    "print('꼬꼬마 형태소 분석 :',kkma.morphs(test_sentence))\n",
    "print('꼬꼬마 품사 태깅 :',kkma.pos(test_sentence))\n",
    "print('꼬꼬마 명사 추출 :',kkma.nouns(test_sentence))  "
   ]
  },
  {
   "cell_type": "markdown",
   "metadata": {},
   "source": [
    "#### 3.3 은전한닢 형태소 분석기 mecab"
   ]
  },
  {
   "cell_type": "markdown",
   "metadata": {},
   "source": [
    "https://eunjeon.blogspot.com/\n",
    "\n",
    "https://cleancode-ws.tistory.com/97\n",
    "\n",
    "https://m.blog.naver.com/PostView.nhn?blogId=aul-_-&logNo=221557243190&proxyReferer=https:%2F%2Fwww.google.com%2F"
   ]
  },
  {
   "cell_type": "code",
   "execution_count": 229,
   "metadata": {},
   "outputs": [
    {
     "name": "stdout",
     "output_type": "stream",
     "text": [
      "Collecting eunjeon\n",
      "  Using cached eunjeon-0.4.0.tar.gz (34.7 MB)\n",
      "Building wheels for collected packages: eunjeon\n",
      "  Building wheel for eunjeon (setup.py): started\n",
      "  Building wheel for eunjeon (setup.py): finished with status 'error'\n",
      "  Running setup.py clean for eunjeon\n",
      "Failed to build eunjeon\n",
      "Installing collected packages: eunjeon\n",
      "    Running setup.py install for eunjeon: started\n",
      "    Running setup.py install for eunjeon: finished with status 'error'\n"
     ]
    },
    {
     "name": "stderr",
     "output_type": "stream",
     "text": [
      "  ERROR: Command errored out with exit status 1:\n",
      "   command: 'C:\\Users\\Huitaek\\anaconda3\\python.exe' -u -c 'import sys, setuptools, tokenize; sys.argv[0] = '\"'\"'C:\\\\Users\\\\Huitaek\\\\AppData\\\\Local\\\\Temp\\\\pip-install-2n75i9jg\\\\eunjeon_8fe10e9d8300432f86de8780ee9bb898\\\\setup.py'\"'\"'; __file__='\"'\"'C:\\\\Users\\\\Huitaek\\\\AppData\\\\Local\\\\Temp\\\\pip-install-2n75i9jg\\\\eunjeon_8fe10e9d8300432f86de8780ee9bb898\\\\setup.py'\"'\"';f=getattr(tokenize, '\"'\"'open'\"'\"', open)(__file__);code=f.read().replace('\"'\"'\\r\\n'\"'\"', '\"'\"'\\n'\"'\"');f.close();exec(compile(code, __file__, '\"'\"'exec'\"'\"'))' bdist_wheel -d 'C:\\Users\\Huitaek\\AppData\\Local\\Temp\\pip-wheel-xbdqnbrk'\n",
      "       cwd: C:\\Users\\Huitaek\\AppData\\Local\\Temp\\pip-install-2n75i9jg\\eunjeon_8fe10e9d8300432f86de8780ee9bb898\\\n",
      "  Complete output (44 lines):\n",
      "  running bdist_wheel\n",
      "  running build\n",
      "  running build_py\n",
      "  creating build\n",
      "  creating build\\lib.win-amd64-3.8\n",
      "  creating build\\lib.win-amd64-3.8\\eunjeon\n",
      "  copying eunjeon\\constants.py -> build\\lib.win-amd64-3.8\\eunjeon\n",
      "  copying eunjeon\\mecab.py -> build\\lib.win-amd64-3.8\\eunjeon\n",
      "  copying eunjeon\\_mecab.py -> build\\lib.win-amd64-3.8\\eunjeon\n",
      "  copying eunjeon\\__init__.py -> build\\lib.win-amd64-3.8\\eunjeon\n",
      "  creating build\\lib.win-amd64-3.8\\eunjeon\\data\n",
      "  copying eunjeon\\data\\char.bin -> build\\lib.win-amd64-3.8\\eunjeon\\data\n",
      "  copying eunjeon\\data\\matrix.bin -> build\\lib.win-amd64-3.8\\eunjeon\\data\n",
      "  copying eunjeon\\data\\model.bin -> build\\lib.win-amd64-3.8\\eunjeon\\data\n",
      "  copying eunjeon\\data\\char.def -> build\\lib.win-amd64-3.8\\eunjeon\\data\n",
      "  copying eunjeon\\data\\feature.def -> build\\lib.win-amd64-3.8\\eunjeon\\data\n",
      "  copying eunjeon\\data\\left-id.def -> build\\lib.win-amd64-3.8\\eunjeon\\data\n",
      "  copying eunjeon\\data\\pos-id.def -> build\\lib.win-amd64-3.8\\eunjeon\\data\n",
      "  copying eunjeon\\data\\rewrite.def -> build\\lib.win-amd64-3.8\\eunjeon\\data\n",
      "  copying eunjeon\\data\\right-id.def -> build\\lib.win-amd64-3.8\\eunjeon\\data\n",
      "  copying eunjeon\\data\\unk.def -> build\\lib.win-amd64-3.8\\eunjeon\\data\n",
      "  copying eunjeon\\data\\sys.dic -> build\\lib.win-amd64-3.8\\eunjeon\\data\n",
      "  copying eunjeon\\data\\unk.dic -> build\\lib.win-amd64-3.8\\eunjeon\\data\n",
      "  copying eunjeon\\data\\dicrc -> build\\lib.win-amd64-3.8\\eunjeon\\data\n",
      "  copying eunjeon\\data\\mecabrc -> build\\lib.win-amd64-3.8\\eunjeon\\data\n",
      "  copying eunjeon\\data\\libmecab.dll -> build\\lib.win-amd64-3.8\\eunjeon\\data\n",
      "  copying eunjeon\\data\\mecab-cost-train.exe -> build\\lib.win-amd64-3.8\\eunjeon\\data\n",
      "  copying eunjeon\\data\\mecab-dict-gen.exe -> build\\lib.win-amd64-3.8\\eunjeon\\data\n",
      "  copying eunjeon\\data\\mecab-dict-index.exe -> build\\lib.win-amd64-3.8\\eunjeon\\data\n",
      "  copying eunjeon\\data\\mecab-system-eval.exe -> build\\lib.win-amd64-3.8\\eunjeon\\data\n",
      "  copying eunjeon\\data\\mecab-test-gen.exe -> build\\lib.win-amd64-3.8\\eunjeon\\data\n",
      "  copying eunjeon\\data\\mecab.exe -> build\\lib.win-amd64-3.8\\eunjeon\\data\n",
      "  creating build\\lib.win-amd64-3.8\\eunjeon\\data\\sdk\n",
      "  copying eunjeon\\data\\sdk\\libmecab.lib -> build\\lib.win-amd64-3.8\\eunjeon\\data\\sdk\n",
      "  copying eunjeon\\data\\sdk\\mecab-cost-train.lib -> build\\lib.win-amd64-3.8\\eunjeon\\data\\sdk\n",
      "  copying eunjeon\\data\\sdk\\mecab-dict-gen.lib -> build\\lib.win-amd64-3.8\\eunjeon\\data\\sdk\n",
      "  copying eunjeon\\data\\sdk\\mecab-dict-index.lib -> build\\lib.win-amd64-3.8\\eunjeon\\data\\sdk\n",
      "  copying eunjeon\\data\\sdk\\mecab-system-eval.lib -> build\\lib.win-amd64-3.8\\eunjeon\\data\\sdk\n",
      "  copying eunjeon\\data\\sdk\\mecab-test-gen.lib -> build\\lib.win-amd64-3.8\\eunjeon\\data\\sdk\n",
      "  copying eunjeon\\data\\sdk\\mecab.h -> build\\lib.win-amd64-3.8\\eunjeon\\data\\sdk\n",
      "  copying eunjeon\\data\\sdk\\mecab.lib -> build\\lib.win-amd64-3.8\\eunjeon\\data\\sdk\n",
      "  running build_ext\n",
      "  building '_MeCab' extension\n",
      "  error: Microsoft Visual C++ 14.0 or greater is required. Get it with \"Microsoft C++ Build Tools\": https://visualstudio.microsoft.com/visual-cpp-build-tools/\n",
      "  ----------------------------------------\n",
      "  ERROR: Failed building wheel for eunjeon\n",
      "    ERROR: Command errored out with exit status 1:\n",
      "     command: 'C:\\Users\\Huitaek\\anaconda3\\python.exe' -u -c 'import sys, setuptools, tokenize; sys.argv[0] = '\"'\"'C:\\\\Users\\\\Huitaek\\\\AppData\\\\Local\\\\Temp\\\\pip-install-2n75i9jg\\\\eunjeon_8fe10e9d8300432f86de8780ee9bb898\\\\setup.py'\"'\"'; __file__='\"'\"'C:\\\\Users\\\\Huitaek\\\\AppData\\\\Local\\\\Temp\\\\pip-install-2n75i9jg\\\\eunjeon_8fe10e9d8300432f86de8780ee9bb898\\\\setup.py'\"'\"';f=getattr(tokenize, '\"'\"'open'\"'\"', open)(__file__);code=f.read().replace('\"'\"'\\r\\n'\"'\"', '\"'\"'\\n'\"'\"');f.close();exec(compile(code, __file__, '\"'\"'exec'\"'\"'))' install --record 'C:\\Users\\Huitaek\\AppData\\Local\\Temp\\pip-record-4bwh_u6v\\install-record.txt' --single-version-externally-managed --compile --install-headers 'C:\\Users\\Huitaek\\anaconda3\\Include\\eunjeon'\n",
      "         cwd: C:\\Users\\Huitaek\\AppData\\Local\\Temp\\pip-install-2n75i9jg\\eunjeon_8fe10e9d8300432f86de8780ee9bb898\\\n",
      "    Complete output (44 lines):\n",
      "    running install\n",
      "    running build\n",
      "    running build_py\n",
      "    creating build\n",
      "    creating build\\lib.win-amd64-3.8\n",
      "    creating build\\lib.win-amd64-3.8\\eunjeon\n",
      "    copying eunjeon\\constants.py -> build\\lib.win-amd64-3.8\\eunjeon\n",
      "    copying eunjeon\\mecab.py -> build\\lib.win-amd64-3.8\\eunjeon\n",
      "    copying eunjeon\\_mecab.py -> build\\lib.win-amd64-3.8\\eunjeon\n",
      "    copying eunjeon\\__init__.py -> build\\lib.win-amd64-3.8\\eunjeon\n",
      "    creating build\\lib.win-amd64-3.8\\eunjeon\\data\n",
      "    copying eunjeon\\data\\char.bin -> build\\lib.win-amd64-3.8\\eunjeon\\data\n",
      "    copying eunjeon\\data\\matrix.bin -> build\\lib.win-amd64-3.8\\eunjeon\\data\n",
      "    copying eunjeon\\data\\model.bin -> build\\lib.win-amd64-3.8\\eunjeon\\data\n",
      "    copying eunjeon\\data\\char.def -> build\\lib.win-amd64-3.8\\eunjeon\\data\n",
      "    copying eunjeon\\data\\feature.def -> build\\lib.win-amd64-3.8\\eunjeon\\data\n",
      "    copying eunjeon\\data\\left-id.def -> build\\lib.win-amd64-3.8\\eunjeon\\data\n",
      "    copying eunjeon\\data\\pos-id.def -> build\\lib.win-amd64-3.8\\eunjeon\\data\n",
      "    copying eunjeon\\data\\rewrite.def -> build\\lib.win-amd64-3.8\\eunjeon\\data\n",
      "    copying eunjeon\\data\\right-id.def -> build\\lib.win-amd64-3.8\\eunjeon\\data\n",
      "    copying eunjeon\\data\\unk.def -> build\\lib.win-amd64-3.8\\eunjeon\\data\n",
      "    copying eunjeon\\data\\sys.dic -> build\\lib.win-amd64-3.8\\eunjeon\\data\n",
      "    copying eunjeon\\data\\unk.dic -> build\\lib.win-amd64-3.8\\eunjeon\\data\n",
      "    copying eunjeon\\data\\dicrc -> build\\lib.win-amd64-3.8\\eunjeon\\data\n",
      "    copying eunjeon\\data\\mecabrc -> build\\lib.win-amd64-3.8\\eunjeon\\data\n",
      "    copying eunjeon\\data\\libmecab.dll -> build\\lib.win-amd64-3.8\\eunjeon\\data\n",
      "    copying eunjeon\\data\\mecab-cost-train.exe -> build\\lib.win-amd64-3.8\\eunjeon\\data\n",
      "    copying eunjeon\\data\\mecab-dict-gen.exe -> build\\lib.win-amd64-3.8\\eunjeon\\data\n",
      "    copying eunjeon\\data\\mecab-dict-index.exe -> build\\lib.win-amd64-3.8\\eunjeon\\data\n",
      "    copying eunjeon\\data\\mecab-system-eval.exe -> build\\lib.win-amd64-3.8\\eunjeon\\data\n",
      "    copying eunjeon\\data\\mecab-test-gen.exe -> build\\lib.win-amd64-3.8\\eunjeon\\data\n",
      "    copying eunjeon\\data\\mecab.exe -> build\\lib.win-amd64-3.8\\eunjeon\\data\n",
      "    creating build\\lib.win-amd64-3.8\\eunjeon\\data\\sdk\n",
      "    copying eunjeon\\data\\sdk\\libmecab.lib -> build\\lib.win-amd64-3.8\\eunjeon\\data\\sdk\n",
      "    copying eunjeon\\data\\sdk\\mecab-cost-train.lib -> build\\lib.win-amd64-3.8\\eunjeon\\data\\sdk\n",
      "    copying eunjeon\\data\\sdk\\mecab-dict-gen.lib -> build\\lib.win-amd64-3.8\\eunjeon\\data\\sdk\n",
      "    copying eunjeon\\data\\sdk\\mecab-dict-index.lib -> build\\lib.win-amd64-3.8\\eunjeon\\data\\sdk\n",
      "    copying eunjeon\\data\\sdk\\mecab-system-eval.lib -> build\\lib.win-amd64-3.8\\eunjeon\\data\\sdk\n",
      "    copying eunjeon\\data\\sdk\\mecab-test-gen.lib -> build\\lib.win-amd64-3.8\\eunjeon\\data\\sdk\n",
      "    copying eunjeon\\data\\sdk\\mecab.h -> build\\lib.win-amd64-3.8\\eunjeon\\data\\sdk\n",
      "    copying eunjeon\\data\\sdk\\mecab.lib -> build\\lib.win-amd64-3.8\\eunjeon\\data\\sdk\n",
      "    running build_ext\n",
      "    building '_MeCab' extension\n",
      "    error: Microsoft Visual C++ 14.0 or greater is required. Get it with \"Microsoft C++ Build Tools\": https://visualstudio.microsoft.com/visual-cpp-build-tools/\n",
      "    ----------------------------------------\n",
      "ERROR: Command errored out with exit status 1: 'C:\\Users\\Huitaek\\anaconda3\\python.exe' -u -c 'import sys, setuptools, tokenize; sys.argv[0] = '\"'\"'C:\\\\Users\\\\Huitaek\\\\AppData\\\\Local\\\\Temp\\\\pip-install-2n75i9jg\\\\eunjeon_8fe10e9d8300432f86de8780ee9bb898\\\\setup.py'\"'\"'; __file__='\"'\"'C:\\\\Users\\\\Huitaek\\\\AppData\\\\Local\\\\Temp\\\\pip-install-2n75i9jg\\\\eunjeon_8fe10e9d8300432f86de8780ee9bb898\\\\setup.py'\"'\"';f=getattr(tokenize, '\"'\"'open'\"'\"', open)(__file__);code=f.read().replace('\"'\"'\\r\\n'\"'\"', '\"'\"'\\n'\"'\"');f.close();exec(compile(code, __file__, '\"'\"'exec'\"'\"'))' install --record 'C:\\Users\\Huitaek\\AppData\\Local\\Temp\\pip-record-4bwh_u6v\\install-record.txt' --single-version-externally-managed --compile --install-headers 'C:\\Users\\Huitaek\\anaconda3\\Include\\eunjeon' Check the logs for full command output.\n"
     ]
    }
   ],
   "source": [
    "!pip install eunjeon"
   ]
  },
  {
   "cell_type": "markdown",
   "metadata": {},
   "source": [
    "### 불용어"
   ]
  },
  {
   "cell_type": "code",
   "execution_count": 46,
   "metadata": {},
   "outputs": [],
   "source": [
    "# 불용어 사전 불러오기\n",
    "stopwords = pd.read_csv(\"./data/stopwords.csv\", encoding='CP949')\n",
    "stopwords = list(stopwords['stopwords'])"
   ]
  },
  {
   "cell_type": "code",
   "execution_count": 30,
   "metadata": {},
   "outputs": [
    {
     "data": {
      "text/plain": [
       "['오다', '이렇다', '것', '도', '영화', '라고', '차라리', '뮤직비디오', '를', '만들다', '게', '나다', '뻔']"
      ]
     },
     "execution_count": 30,
     "metadata": {},
     "output_type": "execute_result"
    }
   ],
   "source": [
    "okt = Okt()\n",
    "okt.morphs('와 이런 것도 영화라고 차라리 뮤직비디오를 만드는 게 나을 뻔', stem = True)"
   ]
  }
 ],
 "metadata": {
  "interpreter": {
   "hash": "099c82bb4ace82ade8ea00d06692c6005c84f3239a96c9207fc6992d929102eb"
  },
  "kernelspec": {
   "display_name": "Python 3.8.8 ('base')",
   "language": "python",
   "name": "python3"
  },
  "language_info": {
   "codemirror_mode": {
    "name": "ipython",
    "version": 3
   },
   "file_extension": ".py",
   "mimetype": "text/x-python",
   "name": "python",
   "nbconvert_exporter": "python",
   "pygments_lexer": "ipython3",
   "version": "3.8.8"
  },
  "orig_nbformat": 4
 },
 "nbformat": 4,
 "nbformat_minor": 2
}

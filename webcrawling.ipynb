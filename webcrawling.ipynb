from selenium import webdriver
from selenium.webdriver import ActionChains
from selenium.webdriver.common.keys import Keys
from selenium.webdriver.common.by import By
from selenium.webdriver.support.ui import WebDriverWait
from selenium.webdriver.support import expected_conditions as EC
import time
import psycopg2
import pandas as pd
conn_str = "host=localhost dbname=postgres user=postgres password=admin port=5432"
conn = psycopg2.connect(conn_str)
cur = conn.cursor()
cur.execute('''CREATE TABLE movie_review (number serial, user_id varchar(20), comment varchar(400), rating varchar(3), date varchar(20) )''') 
conn.commit()
number=141644
base_url = "https://movie.daum.net/moviedb/grade?movieId={}"
for x in range(134701, number+1):
    url=base_url.format(x)
    driver = webdriver.Chrome("chromedriver.exe")
    driver.get(url)
    driver.implicitly_wait(10)
    #elem = WebDriverWait(driver, 10).until(EC.presence_of_element_located((By.CLASS_NAME, "list_comment")))
    time.sleep(1)
    if len(driver.find_elements(By.CLASS_NAME,'alex_more')) !=0:
        set_click_root = driver.find_element(By.CLASS_NAME,'alex_more')
        set_item_click = set_click_root.find_elements(By.CLASS_NAME,'link_fold')
        #while len(set_item_click) != 0:
        set_item_click[0].click()
        time.sleep(2)
        #    set_item_click = set_click_root.find_elements(By.CLASS_NAME,'link_fold') 일단 제외
        #set_item_click[0].click()
        #print(len(set_item_click))
        #print("\n")
        #elem = WebDriverWait(driver, 10).until(EC.presence_of_element_located((By.CLASS_NAME, "list_comment")))
        elem = driver.find_element(By.CLASS_NAME, "list_comment")
        comment_item =elem.find_elements(By.TAG_NAME, "li")
        time.sleep(1)
        for i in range (len(comment_item)):
            rating=comment_item[i].find_element(By.CLASS_NAME,"ratings").text
            date=comment_item[i].find_element(By.CLASS_NAME,"txt_date").text
            user_id = comment_item[i].get_attribute("id")
            #print(comment_item[i].text)
            print(user_id)
            print(rating)
            print(date)
            if len(comment_item[i].find_elements(By.CLASS_NAME,"desc_txt")) != 0: #평점 달아놓고 논평 안한애들있음.
                comment=comment_item[i].find_element(By.CLASS_NAME,"desc_txt").text
                print(comment)
                cur.execute("INSERT INTO movie_review (user_id,comment,rating,date) VALUES (%s, %s,%s ,%s);",(user_id,comment,rating,date))
                conn.commit()
            if len(comment_item[i].find_elements(By.CLASS_NAME,"desc_txt")) == 0:
                cur.execute("INSERT INTO movie_review (user_id,rating,date) VALUES (%s,%s ,%s);",(user_id,rating,date))
                conn.commit()

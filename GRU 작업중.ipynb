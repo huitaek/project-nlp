{
 "cells": [
  {
   "cell_type": "code",
   "execution_count": 1,
   "id": "0a120728",
   "metadata": {},
   "outputs": [],
   "source": [
    "import csv\n",
    "import pandas as pd\n",
    "import numpy as np\n",
    "from tensorflow import keras"
   ]
  },
  {
   "cell_type": "code",
   "execution_count": 2,
   "id": "73192bf4",
   "metadata": {},
   "outputs": [
    {
     "data": {
      "text/html": [
       "<div>\n",
       "<style scoped>\n",
       "    .dataframe tbody tr th:only-of-type {\n",
       "        vertical-align: middle;\n",
       "    }\n",
       "\n",
       "    .dataframe tbody tr th {\n",
       "        vertical-align: top;\n",
       "    }\n",
       "\n",
       "    .dataframe thead th {\n",
       "        text-align: right;\n",
       "    }\n",
       "</style>\n",
       "<table border=\"1\" class=\"dataframe\">\n",
       "  <thead>\n",
       "    <tr style=\"text-align: right;\">\n",
       "      <th></th>\n",
       "      <th>0</th>\n",
       "      <th>1</th>\n",
       "      <th>2</th>\n",
       "      <th>3</th>\n",
       "      <th>4</th>\n",
       "      <th>5</th>\n",
       "      <th>6</th>\n",
       "      <th>7</th>\n",
       "      <th>8</th>\n",
       "      <th>9</th>\n",
       "      <th>...</th>\n",
       "      <th>20</th>\n",
       "      <th>21</th>\n",
       "      <th>22</th>\n",
       "      <th>23</th>\n",
       "      <th>24</th>\n",
       "      <th>25</th>\n",
       "      <th>26</th>\n",
       "      <th>27</th>\n",
       "      <th>28</th>\n",
       "      <th>29</th>\n",
       "    </tr>\n",
       "  </thead>\n",
       "  <tbody>\n",
       "    <tr>\n",
       "      <th>0</th>\n",
       "      <td>0</td>\n",
       "      <td>0</td>\n",
       "      <td>0</td>\n",
       "      <td>0</td>\n",
       "      <td>0</td>\n",
       "      <td>0</td>\n",
       "      <td>0</td>\n",
       "      <td>0</td>\n",
       "      <td>0</td>\n",
       "      <td>0</td>\n",
       "      <td>...</td>\n",
       "      <td>0</td>\n",
       "      <td>0</td>\n",
       "      <td>0</td>\n",
       "      <td>0</td>\n",
       "      <td>0</td>\n",
       "      <td>0</td>\n",
       "      <td>428</td>\n",
       "      <td>20</td>\n",
       "      <td>326</td>\n",
       "      <td>611</td>\n",
       "    </tr>\n",
       "    <tr>\n",
       "      <th>1</th>\n",
       "      <td>0</td>\n",
       "      <td>0</td>\n",
       "      <td>0</td>\n",
       "      <td>0</td>\n",
       "      <td>0</td>\n",
       "      <td>0</td>\n",
       "      <td>0</td>\n",
       "      <td>0</td>\n",
       "      <td>0</td>\n",
       "      <td>0</td>\n",
       "      <td>...</td>\n",
       "      <td>810</td>\n",
       "      <td>419</td>\n",
       "      <td>28</td>\n",
       "      <td>558</td>\n",
       "      <td>1</td>\n",
       "      <td>77</td>\n",
       "      <td>1199</td>\n",
       "      <td>25</td>\n",
       "      <td>677</td>\n",
       "      <td>23</td>\n",
       "    </tr>\n",
       "    <tr>\n",
       "      <th>2</th>\n",
       "      <td>0</td>\n",
       "      <td>0</td>\n",
       "      <td>0</td>\n",
       "      <td>0</td>\n",
       "      <td>0</td>\n",
       "      <td>0</td>\n",
       "      <td>0</td>\n",
       "      <td>0</td>\n",
       "      <td>0</td>\n",
       "      <td>0</td>\n",
       "      <td>...</td>\n",
       "      <td>0</td>\n",
       "      <td>0</td>\n",
       "      <td>0</td>\n",
       "      <td>0</td>\n",
       "      <td>0</td>\n",
       "      <td>0</td>\n",
       "      <td>10</td>\n",
       "      <td>3</td>\n",
       "      <td>202</td>\n",
       "      <td>2</td>\n",
       "    </tr>\n",
       "    <tr>\n",
       "      <th>3</th>\n",
       "      <td>0</td>\n",
       "      <td>0</td>\n",
       "      <td>0</td>\n",
       "      <td>0</td>\n",
       "      <td>0</td>\n",
       "      <td>0</td>\n",
       "      <td>0</td>\n",
       "      <td>0</td>\n",
       "      <td>0</td>\n",
       "      <td>0</td>\n",
       "      <td>...</td>\n",
       "      <td>0</td>\n",
       "      <td>6005</td>\n",
       "      <td>102</td>\n",
       "      <td>5792</td>\n",
       "      <td>199</td>\n",
       "      <td>51</td>\n",
       "      <td>6</td>\n",
       "      <td>7</td>\n",
       "      <td>32</td>\n",
       "      <td>3422</td>\n",
       "    </tr>\n",
       "    <tr>\n",
       "      <th>4</th>\n",
       "      <td>0</td>\n",
       "      <td>0</td>\n",
       "      <td>0</td>\n",
       "      <td>0</td>\n",
       "      <td>0</td>\n",
       "      <td>0</td>\n",
       "      <td>0</td>\n",
       "      <td>0</td>\n",
       "      <td>0</td>\n",
       "      <td>0</td>\n",
       "      <td>...</td>\n",
       "      <td>1</td>\n",
       "      <td>2501</td>\n",
       "      <td>1015</td>\n",
       "      <td>213</td>\n",
       "      <td>2</td>\n",
       "      <td>10001</td>\n",
       "      <td>12019</td>\n",
       "      <td>1012</td>\n",
       "      <td>1267</td>\n",
       "      <td>213</td>\n",
       "    </tr>\n",
       "    <tr>\n",
       "      <th>...</th>\n",
       "      <td>...</td>\n",
       "      <td>...</td>\n",
       "      <td>...</td>\n",
       "      <td>...</td>\n",
       "      <td>...</td>\n",
       "      <td>...</td>\n",
       "      <td>...</td>\n",
       "      <td>...</td>\n",
       "      <td>...</td>\n",
       "      <td>...</td>\n",
       "      <td>...</td>\n",
       "      <td>...</td>\n",
       "      <td>...</td>\n",
       "      <td>...</td>\n",
       "      <td>...</td>\n",
       "      <td>...</td>\n",
       "      <td>...</td>\n",
       "      <td>...</td>\n",
       "      <td>...</td>\n",
       "      <td>...</td>\n",
       "      <td>...</td>\n",
       "    </tr>\n",
       "    <tr>\n",
       "      <th>145077</th>\n",
       "      <td>0</td>\n",
       "      <td>0</td>\n",
       "      <td>0</td>\n",
       "      <td>0</td>\n",
       "      <td>0</td>\n",
       "      <td>0</td>\n",
       "      <td>0</td>\n",
       "      <td>0</td>\n",
       "      <td>0</td>\n",
       "      <td>0</td>\n",
       "      <td>...</td>\n",
       "      <td>0</td>\n",
       "      <td>0</td>\n",
       "      <td>0</td>\n",
       "      <td>195</td>\n",
       "      <td>414</td>\n",
       "      <td>82</td>\n",
       "      <td>673</td>\n",
       "      <td>6</td>\n",
       "      <td>267</td>\n",
       "      <td>7031</td>\n",
       "    </tr>\n",
       "    <tr>\n",
       "      <th>145078</th>\n",
       "      <td>0</td>\n",
       "      <td>0</td>\n",
       "      <td>0</td>\n",
       "      <td>0</td>\n",
       "      <td>0</td>\n",
       "      <td>0</td>\n",
       "      <td>0</td>\n",
       "      <td>0</td>\n",
       "      <td>0</td>\n",
       "      <td>0</td>\n",
       "      <td>...</td>\n",
       "      <td>0</td>\n",
       "      <td>0</td>\n",
       "      <td>0</td>\n",
       "      <td>0</td>\n",
       "      <td>0</td>\n",
       "      <td>0</td>\n",
       "      <td>0</td>\n",
       "      <td>32</td>\n",
       "      <td>10</td>\n",
       "      <td>196</td>\n",
       "    </tr>\n",
       "    <tr>\n",
       "      <th>145079</th>\n",
       "      <td>0</td>\n",
       "      <td>0</td>\n",
       "      <td>0</td>\n",
       "      <td>0</td>\n",
       "      <td>0</td>\n",
       "      <td>0</td>\n",
       "      <td>0</td>\n",
       "      <td>0</td>\n",
       "      <td>0</td>\n",
       "      <td>0</td>\n",
       "      <td>...</td>\n",
       "      <td>36</td>\n",
       "      <td>1351</td>\n",
       "      <td>8</td>\n",
       "      <td>5698</td>\n",
       "      <td>13781</td>\n",
       "      <td>35</td>\n",
       "      <td>9899</td>\n",
       "      <td>9843</td>\n",
       "      <td>8</td>\n",
       "      <td>1045</td>\n",
       "    </tr>\n",
       "    <tr>\n",
       "      <th>145080</th>\n",
       "      <td>0</td>\n",
       "      <td>0</td>\n",
       "      <td>0</td>\n",
       "      <td>0</td>\n",
       "      <td>0</td>\n",
       "      <td>0</td>\n",
       "      <td>0</td>\n",
       "      <td>0</td>\n",
       "      <td>0</td>\n",
       "      <td>0</td>\n",
       "      <td>...</td>\n",
       "      <td>0</td>\n",
       "      <td>0</td>\n",
       "      <td>0</td>\n",
       "      <td>955</td>\n",
       "      <td>1</td>\n",
       "      <td>2171</td>\n",
       "      <td>2788</td>\n",
       "      <td>1145</td>\n",
       "      <td>379</td>\n",
       "      <td>7503</td>\n",
       "    </tr>\n",
       "    <tr>\n",
       "      <th>145081</th>\n",
       "      <td>0</td>\n",
       "      <td>0</td>\n",
       "      <td>0</td>\n",
       "      <td>0</td>\n",
       "      <td>0</td>\n",
       "      <td>0</td>\n",
       "      <td>0</td>\n",
       "      <td>0</td>\n",
       "      <td>0</td>\n",
       "      <td>0</td>\n",
       "      <td>...</td>\n",
       "      <td>0</td>\n",
       "      <td>0</td>\n",
       "      <td>0</td>\n",
       "      <td>178</td>\n",
       "      <td>1</td>\n",
       "      <td>1719</td>\n",
       "      <td>2</td>\n",
       "      <td>53</td>\n",
       "      <td>1274</td>\n",
       "      <td>1</td>\n",
       "    </tr>\n",
       "  </tbody>\n",
       "</table>\n",
       "<p>145082 rows × 30 columns</p>\n",
       "</div>"
      ],
      "text/plain": [
       "        0  1  2  3  4  5  6  7  8  9  ...   20    21    22    23     24  \\\n",
       "0       0  0  0  0  0  0  0  0  0  0  ...    0     0     0     0      0   \n",
       "1       0  0  0  0  0  0  0  0  0  0  ...  810   419    28   558      1   \n",
       "2       0  0  0  0  0  0  0  0  0  0  ...    0     0     0     0      0   \n",
       "3       0  0  0  0  0  0  0  0  0  0  ...    0  6005   102  5792    199   \n",
       "4       0  0  0  0  0  0  0  0  0  0  ...    1  2501  1015   213      2   \n",
       "...    .. .. .. .. .. .. .. .. .. ..  ...  ...   ...   ...   ...    ...   \n",
       "145077  0  0  0  0  0  0  0  0  0  0  ...    0     0     0   195    414   \n",
       "145078  0  0  0  0  0  0  0  0  0  0  ...    0     0     0     0      0   \n",
       "145079  0  0  0  0  0  0  0  0  0  0  ...   36  1351     8  5698  13781   \n",
       "145080  0  0  0  0  0  0  0  0  0  0  ...    0     0     0   955      1   \n",
       "145081  0  0  0  0  0  0  0  0  0  0  ...    0     0     0   178      1   \n",
       "\n",
       "           25     26    27    28    29  \n",
       "0           0    428    20   326   611  \n",
       "1          77   1199    25   677    23  \n",
       "2           0     10     3   202     2  \n",
       "3          51      6     7    32  3422  \n",
       "4       10001  12019  1012  1267   213  \n",
       "...       ...    ...   ...   ...   ...  \n",
       "145077     82    673     6   267  7031  \n",
       "145078      0      0    32    10   196  \n",
       "145079     35   9899  9843     8  1045  \n",
       "145080   2171   2788  1145   379  7503  \n",
       "145081   1719      2    53  1274     1  \n",
       "\n",
       "[145082 rows x 30 columns]"
      ]
     },
     "execution_count": 2,
     "metadata": {},
     "output_type": "execute_result"
    }
   ],
   "source": [
    "df = pd.read_csv('C:/git_project/natural/data/temp_dataset/X_train.csv')\n",
    "df"
   ]
  },
  {
   "cell_type": "code",
   "execution_count": 2,
   "id": "34d4350c",
   "metadata": {},
   "outputs": [],
   "source": [
    "X_train_data = pd.read_csv('C:/git_project/natural/data/temp_dataset/X_train.csv')   # 데이터 불러오기\n",
    "X_test_data = pd.read_csv('C:/git_project/natural/data/temp_dataset/X_test.csv')\n",
    "y_train_data = pd.read_csv('C:/git_project/natural/data/temp_dataset/y_train.csv')   # 데이터 불러오기\n",
    "y_test_data = pd.read_csv('C:/git_project/natural/data/temp_dataset/y_test.csv')"
   ]
  },
  {
   "cell_type": "code",
   "execution_count": 3,
   "id": "cbc26c79",
   "metadata": {},
   "outputs": [],
   "source": [
    "X_train_data.dropna(how='any', inplace=True)\n",
    "X_test_data.dropna(how='any', inplace=True)\n",
    "y_train_data.dropna(how='any', inplace=True)\n",
    "y_test_data.dropna(how='any', inplace=True)"
   ]
  },
  {
   "cell_type": "code",
   "execution_count": 4,
   "id": "965a4909",
   "metadata": {},
   "outputs": [
    {
     "data": {
      "text/plain": [
       "(array([[   0,    0,    0, ...,   20,  326,  611],\n",
       "        [   0,    0,    0, ...,   25,  677,   23],\n",
       "        [   0,    0,    0, ...,    3,  202,    2],\n",
       "        ...,\n",
       "        [   0,    0,    0, ..., 9843,    8, 1045],\n",
       "        [   0,    0,    0, ..., 1145,  379, 7503],\n",
       "        [   0,    0,    0, ...,   53, 1274,    1]], dtype=int64),\n",
       " array([[    0,     0,     0, ...,     0,   701,    84],\n",
       "        [    0,     0,     0, ...,    47,   693,    22],\n",
       "        [    0,     0,     0, ...,    62,   136,   244],\n",
       "        ...,\n",
       "        [    0,     0,     0, ...,   144,  3162,    26],\n",
       "        [    0,     0,     0, ...,   415,     5, 12539],\n",
       "        [    0,     0,     0, ...,     0,   861,     6]], dtype=int64))"
      ]
     },
     "execution_count": 4,
     "metadata": {},
     "output_type": "execute_result"
    }
   ],
   "source": [
    "train_X = np.array(X_train_data)\n",
    "test_X = np.array(X_test_data)\n",
    "train_X, test_X"
   ]
  },
  {
   "cell_type": "code",
   "execution_count": 5,
   "id": "29dcac48",
   "metadata": {},
   "outputs": [
    {
     "data": {
      "text/plain": [
       "(array([[0],\n",
       "        [1],\n",
       "        [0],\n",
       "        ...,\n",
       "        [0],\n",
       "        [1],\n",
       "        [0]], dtype=int64),\n",
       " array([[1],\n",
       "        [0],\n",
       "        [0],\n",
       "        ...,\n",
       "        [0],\n",
       "        [0],\n",
       "        [0]], dtype=int64))"
      ]
     },
     "execution_count": 5,
     "metadata": {},
     "output_type": "execute_result"
    }
   ],
   "source": [
    "train_y = np.array(y_train_data)\n",
    "test_y = np.array(y_test_data)\n",
    "train_y, test_y"
   ]
  },
  {
   "cell_type": "markdown",
   "id": "42d9ffcf",
   "metadata": {},
   "source": [
    "# Model Building"
   ]
  },
  {
   "cell_type": "code",
   "execution_count": 11,
   "id": "d2664f7b",
   "metadata": {},
   "outputs": [
    {
     "name": "stdout",
     "output_type": "stream",
     "text": [
      "Model: \"sequential_1\"\n",
      "_________________________________________________________________\n",
      " Layer (type)                Output Shape              Param #   \n",
      "=================================================================\n",
      " embedding_1 (Embedding)     (None, None, 16)          291328    \n",
      "                                                                 \n",
      " dropout_3 (Dropout)         (None, None, 16)          0         \n",
      "                                                                 \n",
      " bidirectional_1 (Bidirectio  (None, 128)              31488     \n",
      " nal)                                                            \n",
      "                                                                 \n",
      " dropout_4 (Dropout)         (None, 128)               0         \n",
      "                                                                 \n",
      " dense_2 (Dense)             (None, 8)                 1032      \n",
      "                                                                 \n",
      " dropout_5 (Dropout)         (None, 8)                 0         \n",
      "                                                                 \n",
      " dense_3 (Dense)             (None, 1)                 9         \n",
      "                                                                 \n",
      "=================================================================\n",
      "Total params: 323,857\n",
      "Trainable params: 323,857\n",
      "Non-trainable params: 0\n",
      "_________________________________________________________________\n"
     ]
    }
   ],
   "source": [
    "from tensorflow import keras\n",
    "\n",
    "vocab_size = 18208\n",
    "\n",
    "model = keras.Sequential()\n",
    "model.add(keras.layers.Embedding(vocab_size, 16, mask_zero=True))\n",
    "model.add(keras.layers.Dropout(0.4))\n",
    "model.add(keras.layers.Bidirectional(keras.layers.GRU(64)))\n",
    "model.add(keras.layers.Dropout(0.4))\n",
    "model.add(keras.layers.Dense(8, activation='tanh'))\n",
    "model.add(keras.layers.Dropout(0.4))\n",
    "model.add(keras.layers.Dense(1, activation='sigmoid'))\n",
    "\n",
    "model.summary()"
   ]
  },
  {
   "cell_type": "code",
   "execution_count": 12,
   "id": "19a87716",
   "metadata": {},
   "outputs": [],
   "source": [
    "model.compile(optimizer=keras.optimizers.Adam(0.001),\n",
    "              loss='binary_crossentropy',\n",
    "              metrics=['accuracy'])"
   ]
  },
  {
   "cell_type": "markdown",
   "id": "1cd89561",
   "metadata": {},
   "source": [
    "# Training"
   ]
  },
  {
   "cell_type": "code",
   "execution_count": 13,
   "id": "be573f03",
   "metadata": {},
   "outputs": [],
   "source": [
    "import tensorflow as tf\n",
    "\n",
    "train_dataset = tf.data.Dataset.from_tensor_slices((X_train_data, y_train_data))\n",
    "val_dataset = tf.data.Dataset.from_tensor_slices((X_test_data, y_test_data))\n",
    "\n",
    "train_dataset = train_dataset.shuffle(buffer_size=1024, reshuffle_each_iteration=True).batch(128)\n",
    "val_dataset = val_dataset.batch(1000)\n",
    "\n",
    "train_dataset = train_dataset.prefetch(4)"
   ]
  },
  {
   "cell_type": "code",
   "execution_count": null,
   "id": "18a0efb7",
   "metadata": {},
   "outputs": [
    {
     "name": "stdout",
     "output_type": "stream",
     "text": [
      "Epoch 1/20\n",
      "1134/1134 [==============================] - 53s 42ms/step - loss: 0.4298 - accuracy: 0.8046 - val_loss: 0.3690 - val_accuracy: 0.8373\n",
      "Epoch 2/20\n",
      " 162/1134 [===>..........................] - ETA: 39s - loss: 0.3676 - accuracy: 0.8475"
     ]
    }
   ],
   "source": [
    "history = model.fit(train_dataset, epochs=20, validation_data=val_dataset, verbose=1)"
   ]
  },
  {
   "cell_type": "markdown",
   "id": "7ae46bea",
   "metadata": {},
   "source": [
    "# Evaluation"
   ]
  },
  {
   "cell_type": "code",
   "execution_count": null,
   "id": "09139108",
   "metadata": {},
   "outputs": [],
   "source": [
    "# model.predict([encode_text(tokenize(\"이거 잼있네\"), 32)])[0]"
   ]
  },
  {
   "cell_type": "code",
   "execution_count": 34,
   "id": "49c0f5cc",
   "metadata": {},
   "outputs": [
    {
     "data": {
      "text/plain": [
       "array([0.13185185], dtype=float32)"
      ]
     },
     "execution_count": 34,
     "metadata": {},
     "output_type": "execute_result"
    }
   ],
   "source": [
    "# model.predict([encode_text(tokenize(\"이거 졸잼이네\"), 32)])[0]"
   ]
  },
  {
   "cell_type": "code",
   "execution_count": null,
   "id": "cb327c70",
   "metadata": {},
   "outputs": [],
   "source": [
    "# model.predict([encode_text(tokenize(\"이거 개꿀잼\"), 32)])[0]"
   ]
  },
  {
   "cell_type": "code",
   "execution_count": null,
   "id": "7ed50081",
   "metadata": {},
   "outputs": [],
   "source": [
    "# model.predict([encode_text(tokenize(\"이거 노잼이네\"), 32)])[0]"
   ]
  },
  {
   "cell_type": "code",
   "execution_count": 33,
   "id": "9a815d8d",
   "metadata": {},
   "outputs": [
    {
     "data": {
      "text/plain": [
       "array([0.01995486], dtype=float32)"
      ]
     },
     "execution_count": 33,
     "metadata": {},
     "output_type": "execute_result"
    }
   ],
   "source": [
    "# model.predict([encode_text(tokenize(\"완전 핵노잼\"), 32)])[0]"
   ]
  },
  {
   "cell_type": "code",
   "execution_count": 32,
   "id": "df678e0d",
   "metadata": {},
   "outputs": [
    {
     "name": "stdout",
     "output_type": "stream",
     "text": [
      "1563/1563 - 7s - loss: 0.4108 - accuracy: 0.8068 - 7s/epoch - 5ms/step\n"
     ]
    }
   ],
   "source": [
    "# results = model.evaluate(test_x, test_y, verbose=2)"
   ]
  },
  {
   "cell_type": "code",
   "execution_count": 31,
   "id": "ede76ae6",
   "metadata": {},
   "outputs": [
    {
     "data": {
      "text/plain": [
       "dict_keys(['loss', 'accuracy', 'val_loss', 'val_accuracy'])"
      ]
     },
     "execution_count": 31,
     "metadata": {},
     "output_type": "execute_result"
    }
   ],
   "source": [
    "# history_dict = history.history\n",
    "# history_dict.keys()"
   ]
  },
  {
   "cell_type": "markdown",
   "id": "b0ab0511",
   "metadata": {},
   "source": [
    "# EDA"
   ]
  },
  {
   "cell_type": "code",
   "execution_count": null,
   "id": "fa17d623",
   "metadata": {},
   "outputs": [],
   "source": [
    "# import matplotlib.pyplot as plt\n",
    "\n",
    "# acc = history_dict['accuracy']\n",
    "# val_acc = history_dict['val_accuracy']\n",
    "# loss = history_dict['loss']\n",
    "# val_loss = history_dict['val_loss']\n",
    "\n",
    "# epochs = range(1, len(acc) + 1)\n",
    "\n",
    "# # \"bo\"는 \"파란색 점\"입니다\n",
    "# plt.plot(epochs, loss, 'bo', label='Training loss')\n",
    "# # b는 \"파란 실선\"입니다\n",
    "# plt.plot(epochs, val_loss, 'b', label='Validation loss')\n",
    "# plt.title('Training and validation loss')\n",
    "# plt.xlabel('Epochs')\n",
    "# plt.ylabel('Loss')\n",
    "# plt.legend()\n",
    "\n",
    "# plt.show()"
   ]
  },
  {
   "cell_type": "code",
   "execution_count": null,
   "id": "44b6abda",
   "metadata": {},
   "outputs": [],
   "source": [
    "# plt.clf()   # 그림을 초기화합니다\n",
    "\n",
    "# plt.plot(epochs, acc, 'bo', label='Training acc')\n",
    "# plt.plot(epochs, val_acc, 'b', label='Validation acc')\n",
    "# plt.title('Training and validation accuracy')\n",
    "# plt.xlabel('Epochs')\n",
    "# plt.ylabel('Accuracy')\n",
    "# plt.legend()\n",
    "\n",
    "# plt.show()"
   ]
  }
 ],
 "metadata": {
  "kernelspec": {
   "display_name": "Python 3 (ipykernel)",
   "language": "python",
   "name": "python3"
  },
  "language_info": {
   "codemirror_mode": {
    "name": "ipython",
    "version": 3
   },
   "file_extension": ".py",
   "mimetype": "text/x-python",
   "name": "python",
   "nbconvert_exporter": "python",
   "pygments_lexer": "ipython3",
   "version": "3.9.7"
  }
 },
 "nbformat": 4,
 "nbformat_minor": 5
}
